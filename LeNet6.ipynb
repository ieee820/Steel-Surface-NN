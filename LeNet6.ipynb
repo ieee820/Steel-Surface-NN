{
 "cells": [
  {
   "cell_type": "code",
   "execution_count": 1,
   "metadata": {},
   "outputs": [
    {
     "name": "stderr",
     "output_type": "stream",
     "text": [
      "C:\\Programs\\Anaconda3\\envs\\ai\\lib\\site-packages\\h5py\\__init__.py:36: FutureWarning: Conversion of the second argument of issubdtype from `float` to `np.floating` is deprecated. In future, it will be treated as `np.float64 == np.dtype(float).type`.\n",
      "  from ._conv import register_converters as _register_converters\n",
      "Using TensorFlow backend.\n"
     ]
    }
   ],
   "source": [
    "%matplotlib inline\n",
    "import matplotlib.pyplot as plt\n",
    "import pandas, sys, cv2, os\n",
    "import numpy as np\n",
    "from keras.preprocessing.image import ImageDataGenerator\n",
    "from keras.models import Sequential\n",
    "from keras.layers import Conv2D, MaxPooling2D\n",
    "from keras.layers import Activation, Dropout, Flatten, Dense\n",
    "from keras.optimizers import SGD\n",
    "from keras.utils import plot_model\n",
    "import keras, h5py\n",
    "from Helpers.SteelDataGenerator import SteelDataGenerator as sd_gen\n",
    "from keras.callbacks import TensorBoard"
   ]
  },
  {
   "cell_type": "code",
   "execution_count": 2,
   "metadata": {},
   "outputs": [
    {
     "name": "stdout",
     "output_type": "stream",
     "text": [
      "Found 1254 images belonging to 6 classes.\n",
      "Found 270 images belonging to 6 classes.\n",
      "Found 276 images belonging to 6 classes.\n"
     ]
    }
   ],
   "source": [
    "neu_data_dir = 'neu-data'\n",
    "train_dir = os.path.join(neu_data_dir, 'train')\n",
    "val_dir = os.path.join(neu_data_dir, 'val')\n",
    "test_dir = os.path.join(neu_data_dir, 'test')\n",
    "img_width, img_height = 200, 200\n",
    "input_shape = (img_width, img_height, 3)\n",
    "epochs = 1000\n",
    "batch_size = 8\n",
    "nb_train_samples = 1254\n",
    "nb_validation_samples = 270    \n",
    "nb_test_samples = 276\n",
    "classes = 6\n",
    "train_generator, val_generator, test_generator = sd_gen.get_data_generators(train_dir, val_dir, test_dir, img_width, img_height, batch_size)"
   ]
  },
  {
   "cell_type": "code",
   "execution_count": 3,
   "metadata": {},
   "outputs": [],
   "source": [
    "check_point = keras.callbacks.ModelCheckpoint('LeNet6', monitor='val_acc', verbose=1, save_best_only=True, save_weights_only=False, mode='auto', period=1)\n",
    "early_stopping = keras.callbacks.EarlyStopping(monitor='val_acc', min_delta=0, patience=10, verbose=1, mode='auto')\n",
    "tb_callback = TensorBoard(log_dir='Graph',\n",
    "                         histogram_freq=0,\n",
    "                         write_graph=True,\n",
    "                         write_images=True)"
   ]
  },
  {
   "cell_type": "code",
   "execution_count": 4,
   "metadata": {
    "scrolled": true
   },
   "outputs": [],
   "source": [
    "# btch = train_generator.next()[0][0]\n",
    "# plt.imshow(btch)\n",
    "# plt.show()"
   ]
  },
  {
   "cell_type": "code",
   "execution_count": null,
   "metadata": {},
   "outputs": [],
   "source": []
  },
  {
   "cell_type": "code",
   "execution_count": 13,
   "metadata": {
    "scrolled": false
   },
   "outputs": [],
   "source": [
    "\n",
    "model = Sequential()\n",
    "\n",
    "model.add(Conv2D(128, (3, 3), input_shape=input_shape, padding='same'))\n",
    "model.add(Activation('relu'))\n",
    "model.add(MaxPooling2D(pool_size=(2, 2)))\n",
    "\n",
    "model.add(Conv2D(32, (3, 3), padding='same'))\n",
    "model.add(Activation('relu'))\n",
    "model.add(MaxPooling2D(pool_size=(2, 2)))\n",
    "\n",
    "model.add(Conv2D(64, (3, 3), padding='same'))\n",
    "model.add(Activation('relu'))\n",
    "model.add(MaxPooling2D(pool_size=(2, 2)))\n",
    "\n",
    "model.add(Conv2D(64, (3, 3), padding='same'))\n",
    "model.add(Activation('relu'))\n",
    "model.add(MaxPooling2D(pool_size=(2, 2)))\n",
    "\n",
    "model.add(Conv2D(128, (3, 3), padding='same'))\n",
    "model.add(Activation('relu'))\n",
    "model.add(MaxPooling2D(pool_size=(2, 2)))\n",
    "\n",
    "model.add(Flatten())  # this converts our 3D feature maps to 1D feature vectors\n",
    "model.add(Dense(64))\n",
    "model.add(Activation('relu'))\n",
    "model.add(Dropout(0.5))\n",
    "model.add(Dense(6))\n",
    "model.add(Activation('softmax'))\n"
   ]
  },
  {
   "cell_type": "code",
   "execution_count": 14,
   "metadata": {},
   "outputs": [],
   "source": [
    "model.compile(loss='categorical_crossentropy',\n",
    "              optimizer='adam',\n",
    "              metrics=['accuracy'])"
   ]
  },
  {
   "cell_type": "code",
   "execution_count": 15,
   "metadata": {},
   "outputs": [
    {
     "name": "stdout",
     "output_type": "stream",
     "text": [
      "_________________________________________________________________\n",
      "Layer (type)                 Output Shape              Param #   \n",
      "=================================================================\n",
      "conv2d_31 (Conv2D)           (None, 200, 200, 128)     3584      \n",
      "_________________________________________________________________\n",
      "activation_24 (Activation)   (None, 200, 200, 128)     0         \n",
      "_________________________________________________________________\n",
      "max_pooling2d_23 (MaxPooling (None, 100, 100, 128)     0         \n",
      "_________________________________________________________________\n",
      "conv2d_32 (Conv2D)           (None, 100, 100, 32)      36896     \n",
      "_________________________________________________________________\n",
      "activation_25 (Activation)   (None, 100, 100, 32)      0         \n",
      "_________________________________________________________________\n",
      "max_pooling2d_24 (MaxPooling (None, 50, 50, 32)        0         \n",
      "_________________________________________________________________\n",
      "conv2d_33 (Conv2D)           (None, 50, 50, 64)        18496     \n",
      "_________________________________________________________________\n",
      "activation_26 (Activation)   (None, 50, 50, 64)        0         \n",
      "_________________________________________________________________\n",
      "max_pooling2d_25 (MaxPooling (None, 25, 25, 64)        0         \n",
      "_________________________________________________________________\n",
      "conv2d_34 (Conv2D)           (None, 25, 25, 64)        36928     \n",
      "_________________________________________________________________\n",
      "activation_27 (Activation)   (None, 25, 25, 64)        0         \n",
      "_________________________________________________________________\n",
      "max_pooling2d_26 (MaxPooling (None, 12, 12, 64)        0         \n",
      "_________________________________________________________________\n",
      "conv2d_35 (Conv2D)           (None, 12, 12, 128)       73856     \n",
      "_________________________________________________________________\n",
      "activation_28 (Activation)   (None, 12, 12, 128)       0         \n",
      "_________________________________________________________________\n",
      "max_pooling2d_27 (MaxPooling (None, 6, 6, 128)         0         \n",
      "_________________________________________________________________\n",
      "flatten_1 (Flatten)          (None, 4608)              0         \n",
      "_________________________________________________________________\n",
      "dense_1 (Dense)              (None, 64)                294976    \n",
      "_________________________________________________________________\n",
      "activation_29 (Activation)   (None, 64)                0         \n",
      "_________________________________________________________________\n",
      "dropout_1 (Dropout)          (None, 64)                0         \n",
      "_________________________________________________________________\n",
      "dense_2 (Dense)              (None, 6)                 390       \n",
      "_________________________________________________________________\n",
      "activation_30 (Activation)   (None, 6)                 0         \n",
      "=================================================================\n",
      "Total params: 465,126\n",
      "Trainable params: 465,126\n",
      "Non-trainable params: 0\n",
      "_________________________________________________________________\n"
     ]
    }
   ],
   "source": [
    "model.summary()"
   ]
  },
  {
   "cell_type": "code",
   "execution_count": 16,
   "metadata": {
    "scrolled": false
   },
   "outputs": [
    {
     "name": "stdout",
     "output_type": "stream",
     "text": [
      "Epoch 1/1000\n",
      "156/156 [==============================] - 12s 75ms/step - loss: 1.6859 - acc: 0.2684 - val_loss: 1.3118 - val_acc: 0.3977\n",
      "\n",
      "Epoch 00001: val_acc improved from -inf to 0.39773, saving model to LeNet6\n",
      "Epoch 2/1000\n",
      "156/156 [==============================] - 11s 73ms/step - loss: 1.3288 - acc: 0.4121 - val_loss: 1.1814 - val_acc: 0.4621\n",
      "\n",
      "Epoch 00002: val_acc improved from 0.39773 to 0.46212, saving model to LeNet6\n",
      "Epoch 3/1000\n",
      "156/156 [==============================] - 11s 74ms/step - loss: 1.1906 - acc: 0.4359 - val_loss: 1.0895 - val_acc: 0.4697\n",
      "\n",
      "Epoch 00003: val_acc improved from 0.46212 to 0.46970, saving model to LeNet6\n",
      "Epoch 4/1000\n",
      "156/156 [==============================] - 11s 74ms/step - loss: 1.1216 - acc: 0.4631 - val_loss: 1.0093 - val_acc: 0.5303\n",
      "\n",
      "Epoch 00004: val_acc improved from 0.46970 to 0.53030, saving model to LeNet6\n",
      "Epoch 5/1000\n",
      "156/156 [==============================] - 11s 74ms/step - loss: 1.0793 - acc: 0.4866 - val_loss: 0.9988 - val_acc: 0.5227\n",
      "\n",
      "Epoch 00005: val_acc did not improve\n",
      "Epoch 6/1000\n",
      "156/156 [==============================] - 11s 73ms/step - loss: 0.9662 - acc: 0.5366 - val_loss: 0.7728 - val_acc: 0.6174\n",
      "\n",
      "Epoch 00006: val_acc improved from 0.53030 to 0.61742, saving model to LeNet6\n",
      "Epoch 7/1000\n",
      "156/156 [==============================] - 11s 74ms/step - loss: 0.9703 - acc: 0.5665 - val_loss: 0.7541 - val_acc: 0.6742\n",
      "\n",
      "Epoch 00007: val_acc improved from 0.61742 to 0.67424, saving model to LeNet6\n",
      "Epoch 8/1000\n",
      "156/156 [==============================] - 12s 74ms/step - loss: 0.8665 - acc: 0.6266 - val_loss: 0.7249 - val_acc: 0.6818\n",
      "\n",
      "Epoch 00008: val_acc improved from 0.67424 to 0.68182, saving model to LeNet6\n",
      "Epoch 9/1000\n",
      "156/156 [==============================] - 11s 73ms/step - loss: 0.7836 - acc: 0.6661 - val_loss: 0.7921 - val_acc: 0.6439\n",
      "\n",
      "Epoch 00009: val_acc did not improve\n",
      "Epoch 10/1000\n",
      "156/156 [==============================] - 11s 72ms/step - loss: 0.6866 - acc: 0.7260 - val_loss: 0.4329 - val_acc: 0.7879\n",
      "\n",
      "Epoch 00010: val_acc improved from 0.68182 to 0.78788, saving model to LeNet6\n",
      "Epoch 11/1000\n",
      "156/156 [==============================] - 11s 72ms/step - loss: 0.5635 - acc: 0.7962 - val_loss: 0.5687 - val_acc: 0.7424\n",
      "\n",
      "Epoch 00011: val_acc did not improve\n",
      "Epoch 12/1000\n",
      "156/156 [==============================] - 11s 73ms/step - loss: 0.5676 - acc: 0.7911 - val_loss: 0.4500 - val_acc: 0.8333\n",
      "\n",
      "Epoch 00012: val_acc improved from 0.78788 to 0.83333, saving model to LeNet6\n",
      "Epoch 13/1000\n",
      "156/156 [==============================] - 11s 72ms/step - loss: 0.4588 - acc: 0.8552 - val_loss: 0.7089 - val_acc: 0.8258\n",
      "\n",
      "Epoch 00013: val_acc did not improve\n",
      "Epoch 14/1000\n",
      "156/156 [==============================] - 11s 73ms/step - loss: 0.4523 - acc: 0.8571 - val_loss: 0.8243 - val_acc: 0.7311\n",
      "\n",
      "Epoch 00014: val_acc did not improve\n",
      "Epoch 15/1000\n",
      "156/156 [==============================] - 11s 71ms/step - loss: 0.4547 - acc: 0.8531 - val_loss: 0.8533 - val_acc: 0.6856\n",
      "\n",
      "Epoch 00015: val_acc did not improve\n",
      "Epoch 16/1000\n",
      "156/156 [==============================] - 11s 72ms/step - loss: 0.2795 - acc: 0.9084 - val_loss: 0.4474 - val_acc: 0.8561\n",
      "\n",
      "Epoch 00016: val_acc improved from 0.83333 to 0.85606, saving model to LeNet6\n",
      "Epoch 17/1000\n",
      "156/156 [==============================] - 11s 71ms/step - loss: 0.3617 - acc: 0.8870 - val_loss: 0.4195 - val_acc: 0.8750\n",
      "\n",
      "Epoch 00017: val_acc improved from 0.85606 to 0.87500, saving model to LeNet6\n",
      "Epoch 18/1000\n",
      "156/156 [==============================] - 11s 73ms/step - loss: 0.2445 - acc: 0.9199 - val_loss: 0.2777 - val_acc: 0.8750\n",
      "\n",
      "Epoch 00018: val_acc did not improve\n",
      "Epoch 19/1000\n",
      "156/156 [==============================] - 11s 71ms/step - loss: 0.2329 - acc: 0.9239 - val_loss: 0.4822 - val_acc: 0.8712\n",
      "\n",
      "Epoch 00019: val_acc did not improve\n",
      "Epoch 20/1000\n",
      "156/156 [==============================] - 11s 72ms/step - loss: 0.1685 - acc: 0.9503 - val_loss: 0.4226 - val_acc: 0.8750\n",
      "\n",
      "Epoch 00020: val_acc did not improve\n",
      "Epoch 21/1000\n",
      "156/156 [==============================] - 11s 70ms/step - loss: 0.2586 - acc: 0.9327 - val_loss: 0.4612 - val_acc: 0.8523\n",
      "\n",
      "Epoch 00021: val_acc did not improve\n",
      "Epoch 22/1000\n",
      "156/156 [==============================] - 11s 68ms/step - loss: 0.2610 - acc: 0.9260 - val_loss: 0.4496 - val_acc: 0.8750\n",
      "\n",
      "Epoch 00022: val_acc did not improve\n",
      "Epoch 23/1000\n",
      "156/156 [==============================] - 11s 70ms/step - loss: 0.2935 - acc: 0.9127 - val_loss: 0.4102 - val_acc: 0.9015\n",
      "\n",
      "Epoch 00023: val_acc improved from 0.87500 to 0.90152, saving model to LeNet6\n",
      "Epoch 24/1000\n",
      "156/156 [==============================] - 11s 69ms/step - loss: 0.2580 - acc: 0.9351 - val_loss: 0.4235 - val_acc: 0.8788\n",
      "\n",
      "Epoch 00024: val_acc did not improve\n",
      "Epoch 25/1000\n",
      "156/156 [==============================] - 11s 71ms/step - loss: 0.1854 - acc: 0.9391 - val_loss: 0.4136 - val_acc: 0.9053\n",
      "\n",
      "Epoch 00025: val_acc improved from 0.90152 to 0.90530, saving model to LeNet6\n",
      "Epoch 26/1000\n",
      "156/156 [==============================] - 11s 71ms/step - loss: 0.2066 - acc: 0.9479 - val_loss: 0.2738 - val_acc: 0.9129\n",
      "\n",
      "Epoch 00026: val_acc improved from 0.90530 to 0.91288, saving model to LeNet6\n",
      "Epoch 27/1000\n",
      "156/156 [==============================] - 11s 72ms/step - loss: 0.1654 - acc: 0.9447 - val_loss: 0.3219 - val_acc: 0.9280\n",
      "\n",
      "Epoch 00027: val_acc improved from 0.91288 to 0.92803, saving model to LeNet6\n",
      "Epoch 28/1000\n",
      "156/156 [==============================] - 11s 71ms/step - loss: 0.1273 - acc: 0.9647 - val_loss: 0.5730 - val_acc: 0.8712\n",
      "\n",
      "Epoch 00028: val_acc did not improve\n",
      "Epoch 29/1000\n",
      "156/156 [==============================] - 11s 71ms/step - loss: 0.2529 - acc: 0.9343 - val_loss: 0.7152 - val_acc: 0.8295\n",
      "\n",
      "Epoch 00029: val_acc did not improve\n",
      "Epoch 30/1000\n",
      "156/156 [==============================] - 11s 71ms/step - loss: 0.1279 - acc: 0.9615 - val_loss: 0.5583 - val_acc: 0.8902\n",
      "\n",
      "Epoch 00030: val_acc did not improve\n",
      "Epoch 31/1000\n",
      "156/156 [==============================] - 11s 71ms/step - loss: 0.2924 - acc: 0.9300 - val_loss: 0.4919 - val_acc: 0.8712\n",
      "\n",
      "Epoch 00031: val_acc did not improve\n",
      "Epoch 32/1000\n",
      "156/156 [==============================] - 11s 71ms/step - loss: 0.1732 - acc: 0.9543 - val_loss: 0.3607 - val_acc: 0.9394\n",
      "\n",
      "Epoch 00032: val_acc improved from 0.92803 to 0.93939, saving model to LeNet6\n",
      "Epoch 33/1000\n",
      "156/156 [==============================] - 11s 71ms/step - loss: 0.1225 - acc: 0.9704 - val_loss: 0.3542 - val_acc: 0.9091\n",
      "\n",
      "Epoch 00033: val_acc did not improve\n",
      "Epoch 34/1000\n",
      "156/156 [==============================] - 11s 70ms/step - loss: 0.2328 - acc: 0.9343 - val_loss: 0.6416 - val_acc: 0.8826\n",
      "\n",
      "Epoch 00034: val_acc did not improve\n",
      "Epoch 35/1000\n",
      "156/156 [==============================] - 11s 71ms/step - loss: 0.1943 - acc: 0.9551 - val_loss: 0.3121 - val_acc: 0.9167\n",
      "\n",
      "Epoch 00035: val_acc did not improve\n",
      "Epoch 36/1000\n",
      "156/156 [==============================] - 11s 71ms/step - loss: 0.1917 - acc: 0.9487 - val_loss: 0.5505 - val_acc: 0.8561\n",
      "\n",
      "Epoch 00036: val_acc did not improve\n",
      "Epoch 37/1000\n",
      "156/156 [==============================] - 11s 70ms/step - loss: 0.1326 - acc: 0.9605 - val_loss: 0.2957 - val_acc: 0.9356\n",
      "\n",
      "Epoch 00037: val_acc did not improve\n",
      "Epoch 38/1000\n",
      "156/156 [==============================] - 11s 70ms/step - loss: 0.1945 - acc: 0.9493 - val_loss: 0.5686 - val_acc: 0.8674\n",
      "\n",
      "Epoch 00038: val_acc did not improve\n",
      "Epoch 39/1000\n",
      "156/156 [==============================] - 11s 70ms/step - loss: 0.1424 - acc: 0.9613 - val_loss: 0.5809 - val_acc: 0.9015\n",
      "\n",
      "Epoch 00039: val_acc did not improve\n",
      "Epoch 40/1000\n",
      "156/156 [==============================] - 11s 71ms/step - loss: 0.1761 - acc: 0.9487 - val_loss: 0.5283 - val_acc: 0.8826\n",
      "\n",
      "Epoch 00040: val_acc did not improve\n",
      "Epoch 41/1000\n",
      "156/156 [==============================] - 11s 69ms/step - loss: 0.1356 - acc: 0.9613 - val_loss: 0.5513 - val_acc: 0.8788\n",
      "\n",
      "Epoch 00041: val_acc did not improve\n",
      "Epoch 42/1000\n",
      "156/156 [==============================] - 11s 69ms/step - loss: 0.1491 - acc: 0.9661 - val_loss: 0.9845 - val_acc: 0.8106\n",
      "\n",
      "Epoch 00042: val_acc did not improve\n",
      "Epoch 00042: early stopping\n"
     ]
    },
    {
     "data": {
      "text/plain": [
       "<keras.callbacks.History at 0x1b7230a3320>"
      ]
     },
     "execution_count": 16,
     "metadata": {},
     "output_type": "execute_result"
    }
   ],
   "source": [
    "model.fit_generator(\n",
    "        train_generator,\n",
    "        steps_per_epoch=nb_train_samples // batch_size,\n",
    "        epochs=epochs,\n",
    "        validation_data=val_generator,\n",
    "        validation_steps=nb_validation_samples // batch_size,\n",
    "        verbose=1, \n",
    "        callbacks=[check_point, early_stopping, tb_callback])"
   ]
  },
  {
   "cell_type": "code",
   "execution_count": 17,
   "metadata": {},
   "outputs": [
    {
     "name": "stdout",
     "output_type": "stream",
     "text": [
      "Точность на тестовых данных: 88.24%\n"
     ]
    }
   ],
   "source": [
    "scores = model.evaluate_generator(test_generator, nb_test_samples // batch_size)\n",
    "print(\"Точность на тестовых данных: %.2f%%\" % (scores[1]*100))"
   ]
  },
  {
   "cell_type": "code",
   "execution_count": 19,
   "metadata": {},
   "outputs": [
    {
     "name": "stdout",
     "output_type": "stream",
     "text": [
      "_________________________________________________________________\n",
      "Layer (type)                 Output Shape              Param #   \n",
      "=================================================================\n",
      "conv2d_4 (Conv2D)            (None, 198, 198, 32)      896       \n",
      "_________________________________________________________________\n",
      "activation_6 (Activation)    (None, 198, 198, 32)      0         \n",
      "_________________________________________________________________\n",
      "max_pooling2d_4 (MaxPooling2 (None, 99, 99, 32)        0         \n",
      "_________________________________________________________________\n",
      "conv2d_5 (Conv2D)            (None, 97, 97, 32)        9248      \n",
      "_________________________________________________________________\n",
      "activation_7 (Activation)    (None, 97, 97, 32)        0         \n",
      "_________________________________________________________________\n",
      "max_pooling2d_5 (MaxPooling2 (None, 48, 48, 32)        0         \n",
      "_________________________________________________________________\n",
      "conv2d_6 (Conv2D)            (None, 46, 46, 64)        18496     \n",
      "_________________________________________________________________\n",
      "activation_8 (Activation)    (None, 46, 46, 64)        0         \n",
      "_________________________________________________________________\n",
      "max_pooling2d_6 (MaxPooling2 (None, 23, 23, 64)        0         \n",
      "_________________________________________________________________\n",
      "flatten_2 (Flatten)          (None, 33856)             0         \n",
      "_________________________________________________________________\n",
      "dense_3 (Dense)              (None, 64)                2166848   \n",
      "_________________________________________________________________\n",
      "activation_9 (Activation)    (None, 64)                0         \n",
      "_________________________________________________________________\n",
      "dropout_2 (Dropout)          (None, 64)                0         \n",
      "_________________________________________________________________\n",
      "dense_4 (Dense)              (None, 6)                 390       \n",
      "_________________________________________________________________\n",
      "activation_10 (Activation)   (None, 6)                 0         \n",
      "=================================================================\n",
      "Total params: 2,195,878\n",
      "Trainable params: 2,195,878\n",
      "Non-trainable params: 0\n",
      "_________________________________________________________________\n"
     ]
    }
   ],
   "source": [
    "\n"
   ]
  },
  {
   "cell_type": "code",
   "execution_count": null,
   "metadata": {},
   "outputs": [],
   "source": []
  }
 ],
 "metadata": {
  "kernelspec": {
   "display_name": "Python 3",
   "language": "python",
   "name": "python3"
  },
  "language_info": {
   "codemirror_mode": {
    "name": "ipython",
    "version": 3
   },
   "file_extension": ".py",
   "mimetype": "text/x-python",
   "name": "python",
   "nbconvert_exporter": "python",
   "pygments_lexer": "ipython3",
   "version": "3.5.5"
  }
 },
 "nbformat": 4,
 "nbformat_minor": 2
}
