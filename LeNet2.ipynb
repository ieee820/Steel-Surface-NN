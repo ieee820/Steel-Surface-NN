{
 "cells": [
  {
   "cell_type": "code",
   "execution_count": 1,
   "metadata": {},
   "outputs": [
    {
     "name": "stderr",
     "output_type": "stream",
     "text": [
      "C:\\Programs\\Anaconda3\\envs\\ai\\lib\\site-packages\\h5py\\__init__.py:36: FutureWarning: Conversion of the second argument of issubdtype from `float` to `np.floating` is deprecated. In future, it will be treated as `np.float64 == np.dtype(float).type`.\n",
      "  from ._conv import register_converters as _register_converters\n",
      "Using TensorFlow backend.\n"
     ]
    }
   ],
   "source": [
    "import numpy, pandas, sys, cv2, os\n",
    "from keras.preprocessing.image import ImageDataGenerator\n",
    "from keras.models import Sequential\n",
    "from keras.layers import Conv2D, MaxPooling2D\n",
    "from keras.layers import Activation, Dropout, Flatten, Dense\n",
    "from keras.optimizers import SGD"
   ]
  },
  {
   "cell_type": "code",
   "execution_count": 2,
   "metadata": {},
   "outputs": [],
   "source": [
    "neu_data_dir = 'neu-data'\n",
    "train_dir = os.path.join(neu_data_dir, 'train')\n",
    "val_dir = os.path.join(neu_data_dir, 'val')\n",
    "test_dir = os.path.join(neu_data_dir, 'test')\n",
    "img_width, img_height = 200, 200\n",
    "# Размерность тензора на основе изображения для входных данных в нейронную сеть\n",
    "# backend Tensorflow, channels_last\n",
    "input_shape = (img_width, img_height, 3)\n",
    "# Количество эпох\n",
    "epochs = 100\n",
    "# Размер мини-выборки\n",
    "batch_size = 16\n",
    "# Количество изображений для обучения\n",
    "nb_train_samples = 1254\n",
    "# Количество изображений для проверки\n",
    "nb_validation_samples = 270\n",
    "# Количество изображений для тестирования\n",
    "nb_test_samples = 276\n",
    "classes = 6"
   ]
  },
  {
   "cell_type": "code",
   "execution_count": 3,
   "metadata": {},
   "outputs": [],
   "source": [
    "datagen = ImageDataGenerator(\n",
    "        rotation_range=40,\n",
    "        width_shift_range=0.2,\n",
    "        height_shift_range=0.2,\n",
    "        rescale=1./255,\n",
    "        shear_range=0.2,\n",
    "        zoom_range=0.2,\n",
    "        horizontal_flip=True,\n",
    "        fill_mode='nearest')"
   ]
  },
  {
   "cell_type": "code",
   "execution_count": 4,
   "metadata": {
    "scrolled": false
   },
   "outputs": [],
   "source": [
    "model = Sequential()\n",
    "model.add(Conv2D(32, (3, 3), input_shape=input_shape))\n",
    "model.add(Activation('relu'))\n",
    "model.add(MaxPooling2D(pool_size=(2, 2)))\n",
    "\n",
    "model.add(Conv2D(32, (3, 3)))\n",
    "model.add(Activation('relu'))\n",
    "model.add(MaxPooling2D(pool_size=(2, 2)))\n",
    "\n",
    "model.add(Conv2D(64, (3, 3)))\n",
    "model.add(Activation('relu'))\n",
    "model.add(MaxPooling2D(pool_size=(2, 2)))\n",
    "\n",
    "model.add(Flatten())  # this converts our 3D feature maps to 1D feature vectors\n",
    "model.add(Dense(64))\n",
    "model.add(Activation('relu'))\n",
    "model.add(Dropout(0.5))\n",
    "model.add(Dense(6))\n",
    "model.add(Activation('sigmoid'))\n",
    "\n",
    "model.compile(loss='binary_crossentropy',\n",
    "              optimizer='rmsprop',\n",
    "              metrics=['accuracy'])"
   ]
  },
  {
   "cell_type": "code",
   "execution_count": 5,
   "metadata": {},
   "outputs": [
    {
     "name": "stdout",
     "output_type": "stream",
     "text": [
      "Found 1254 images belonging to 6 classes.\n"
     ]
    }
   ],
   "source": [
    "train_generator = datagen.flow_from_directory(\n",
    "    train_dir,\n",
    "    target_size=(img_width, img_height),\n",
    "    batch_size=batch_size,\n",
    "    class_mode='categorical')"
   ]
  },
  {
   "cell_type": "code",
   "execution_count": 6,
   "metadata": {},
   "outputs": [
    {
     "name": "stdout",
     "output_type": "stream",
     "text": [
      "Found 270 images belonging to 6 classes.\n"
     ]
    }
   ],
   "source": [
    "val_generator = datagen.flow_from_directory(\n",
    "    val_dir,\n",
    "    target_size=(img_width, img_height),\n",
    "    batch_size=batch_size,\n",
    "    class_mode='categorical')"
   ]
  },
  {
   "cell_type": "code",
   "execution_count": 7,
   "metadata": {},
   "outputs": [
    {
     "name": "stdout",
     "output_type": "stream",
     "text": [
      "Found 276 images belonging to 6 classes.\n"
     ]
    }
   ],
   "source": [
    "test_generator = datagen.flow_from_directory(\n",
    "    test_dir,\n",
    "    target_size=(img_width, img_height),\n",
    "    batch_size=batch_size,\n",
    "    class_mode='categorical')"
   ]
  },
  {
   "cell_type": "code",
   "execution_count": 8,
   "metadata": {
    "scrolled": false
   },
   "outputs": [
    {
     "name": "stdout",
     "output_type": "stream",
     "text": [
      "Epoch 1/50\n",
      "78/78 [==============================] - 11s 141ms/step - loss: 0.5224 - acc: 0.8177 - val_loss: 0.4671 - val_acc: 0.8333\n",
      "Epoch 2/50\n",
      "78/78 [==============================] - 10s 125ms/step - loss: 0.4635 - acc: 0.8255 - val_loss: 0.4204 - val_acc: 0.8340\n",
      "Epoch 3/50\n",
      "78/78 [==============================] - 10s 124ms/step - loss: 0.4169 - acc: 0.8318 - val_loss: 0.4066 - val_acc: 0.8346\n",
      "Epoch 4/50\n",
      "78/78 [==============================] - 10s 124ms/step - loss: 0.3893 - acc: 0.8387 - val_loss: 0.3709 - val_acc: 0.8639\n",
      "Epoch 5/50\n",
      "78/78 [==============================] - 10s 129ms/step - loss: 0.3733 - acc: 0.8408 - val_loss: 0.4004 - val_acc: 0.8581\n",
      "Epoch 6/50\n",
      "78/78 [==============================] - 10s 124ms/step - loss: 0.3454 - acc: 0.8502 - val_loss: 0.3824 - val_acc: 0.8503\n",
      "Epoch 7/50\n",
      "78/78 [==============================] - 10s 123ms/step - loss: 0.3371 - acc: 0.8543 - val_loss: 0.3488 - val_acc: 0.8776\n",
      "Epoch 8/50\n",
      "78/78 [==============================] - 10s 122ms/step - loss: 0.3124 - acc: 0.8639 - val_loss: 0.2830 - val_acc: 0.8997\n",
      "Epoch 9/50\n",
      "78/78 [==============================] - 10s 123ms/step - loss: 0.3052 - acc: 0.8665 - val_loss: 0.3347 - val_acc: 0.8997\n",
      "Epoch 10/50\n",
      "78/78 [==============================] - 10s 124ms/step - loss: 0.3142 - acc: 0.8653 - val_loss: 0.3521 - val_acc: 0.8678\n",
      "Epoch 11/50\n",
      "78/78 [==============================] - 9s 119ms/step - loss: 0.2731 - acc: 0.8870 - val_loss: 0.3716 - val_acc: 0.8887\n",
      "Epoch 12/50\n",
      "78/78 [==============================] - 9s 117ms/step - loss: 0.2759 - acc: 0.8833 - val_loss: 0.4665 - val_acc: 0.8522\n",
      "Epoch 13/50\n",
      "78/78 [==============================] - 9s 117ms/step - loss: 0.2663 - acc: 0.8866 - val_loss: 0.5211 - val_acc: 0.8372\n",
      "Epoch 14/50\n",
      "78/78 [==============================] - 9s 113ms/step - loss: 0.2583 - acc: 0.8926 - val_loss: 0.4396 - val_acc: 0.8880\n",
      "Epoch 15/50\n",
      "78/78 [==============================] - 9s 111ms/step - loss: 0.2620 - acc: 0.8925 - val_loss: 0.4318 - val_acc: 0.8691\n",
      "Epoch 16/50\n",
      "78/78 [==============================] - 9s 112ms/step - loss: 0.2496 - acc: 0.8941 - val_loss: 0.3632 - val_acc: 0.8952\n",
      "Epoch 17/50\n",
      "78/78 [==============================] - 9s 112ms/step - loss: 0.2288 - acc: 0.9033 - val_loss: 0.3943 - val_acc: 0.9030\n",
      "Epoch 18/50\n",
      "78/78 [==============================] - 9s 115ms/step - loss: 0.2353 - acc: 0.9038 - val_loss: 0.3621 - val_acc: 0.9089\n",
      "Epoch 19/50\n",
      "78/78 [==============================] - 9s 114ms/step - loss: 0.2228 - acc: 0.9116 - val_loss: 0.3741 - val_acc: 0.8939\n",
      "Epoch 20/50\n",
      "78/78 [==============================] - 9s 114ms/step - loss: 0.2174 - acc: 0.9129 - val_loss: 0.3048 - val_acc: 0.9076\n",
      "Epoch 21/50\n",
      "78/78 [==============================] - 9s 116ms/step - loss: 0.2002 - acc: 0.9223 - val_loss: 0.3778 - val_acc: 0.9108\n",
      "Epoch 22/50\n",
      "78/78 [==============================] - 9s 116ms/step - loss: 0.1979 - acc: 0.9232 - val_loss: 0.3329 - val_acc: 0.9115\n",
      "Epoch 23/50\n",
      "78/78 [==============================] - 9s 114ms/step - loss: 0.2003 - acc: 0.9223 - val_loss: 0.3669 - val_acc: 0.9036\n",
      "Epoch 24/50\n",
      "78/78 [==============================] - 9s 113ms/step - loss: 0.1880 - acc: 0.9275 - val_loss: 0.2901 - val_acc: 0.9167\n",
      "Epoch 25/50\n",
      "78/78 [==============================] - 9s 112ms/step - loss: 0.1854 - acc: 0.9285 - val_loss: 0.4350 - val_acc: 0.8971\n",
      "Epoch 26/50\n",
      "78/78 [==============================] - 9s 113ms/step - loss: 0.2145 - acc: 0.9249 - val_loss: 0.4029 - val_acc: 0.9121\n",
      "Epoch 27/50\n",
      "78/78 [==============================] - 9s 112ms/step - loss: 0.1845 - acc: 0.9294 - val_loss: 0.4292 - val_acc: 0.8906\n",
      "Epoch 28/50\n",
      "78/78 [==============================] - 9s 114ms/step - loss: 0.1764 - acc: 0.9298 - val_loss: 0.3557 - val_acc: 0.8854\n",
      "Epoch 29/50\n",
      "78/78 [==============================] - 9s 115ms/step - loss: 0.2034 - acc: 0.9316 - val_loss: 0.3900 - val_acc: 0.9134\n",
      "Epoch 30/50\n",
      "78/78 [==============================] - 9s 113ms/step - loss: 0.1742 - acc: 0.9324 - val_loss: 0.4045 - val_acc: 0.9023\n",
      "Epoch 31/50\n",
      "78/78 [==============================] - 9s 111ms/step - loss: 0.1711 - acc: 0.9352 - val_loss: 0.3018 - val_acc: 0.9121\n",
      "Epoch 32/50\n",
      "78/78 [==============================] - 9s 112ms/step - loss: 0.1632 - acc: 0.9409 - val_loss: 0.3210 - val_acc: 0.8997\n",
      "Epoch 33/50\n",
      "78/78 [==============================] - 9s 113ms/step - loss: 0.1574 - acc: 0.9399 - val_loss: 0.3779 - val_acc: 0.8952\n",
      "Epoch 34/50\n",
      "78/78 [==============================] - 9s 121ms/step - loss: 0.1596 - acc: 0.9363 - val_loss: 0.3604 - val_acc: 0.9329\n",
      "Epoch 35/50\n",
      "78/78 [==============================] - 9s 115ms/step - loss: 0.1443 - acc: 0.9480 - val_loss: 0.3962 - val_acc: 0.9206\n",
      "Epoch 36/50\n",
      "78/78 [==============================] - 9s 114ms/step - loss: 0.2016 - acc: 0.9414 - val_loss: 0.3061 - val_acc: 0.9355\n",
      "Epoch 37/50\n",
      "78/78 [==============================] - 9s 112ms/step - loss: 0.1562 - acc: 0.9416 - val_loss: 0.3068 - val_acc: 0.9186\n",
      "Epoch 38/50\n",
      "78/78 [==============================] - 9s 113ms/step - loss: 0.1770 - acc: 0.9379 - val_loss: 0.3891 - val_acc: 0.9277\n",
      "Epoch 39/50\n",
      "78/78 [==============================] - 9s 115ms/step - loss: 0.1993 - acc: 0.9375 - val_loss: 0.5190 - val_acc: 0.8945\n",
      "Epoch 40/50\n",
      "78/78 [==============================] - 9s 114ms/step - loss: 0.1464 - acc: 0.9448 - val_loss: 0.3341 - val_acc: 0.9251\n",
      "Epoch 41/50\n",
      "78/78 [==============================] - 9s 112ms/step - loss: 0.1516 - acc: 0.9437 - val_loss: 0.2646 - val_acc: 0.9434\n",
      "Epoch 42/50\n",
      "78/78 [==============================] - 9s 113ms/step - loss: 0.1446 - acc: 0.9476 - val_loss: 0.3864 - val_acc: 0.9427\n",
      "Epoch 43/50\n",
      "78/78 [==============================] - 9s 112ms/step - loss: 0.1785 - acc: 0.9426 - val_loss: 0.3396 - val_acc: 0.9303\n",
      "Epoch 44/50\n",
      "78/78 [==============================] - 9s 113ms/step - loss: 0.1634 - acc: 0.9458 - val_loss: 0.4322 - val_acc: 0.9486\n",
      "Epoch 45/50\n",
      "78/78 [==============================] - 9s 112ms/step - loss: 0.1514 - acc: 0.9457 - val_loss: 0.3789 - val_acc: 0.9173\n",
      "Epoch 46/50\n",
      "78/78 [==============================] - 9s 111ms/step - loss: 0.1447 - acc: 0.9513 - val_loss: 0.4227 - val_acc: 0.9271\n",
      "Epoch 47/50\n",
      "78/78 [==============================] - 9s 111ms/step - loss: 0.1416 - acc: 0.9447 - val_loss: 0.2762 - val_acc: 0.9473\n",
      "Epoch 48/50\n",
      "78/78 [==============================] - 9s 113ms/step - loss: 0.1559 - acc: 0.9490 - val_loss: 0.3433 - val_acc: 0.9128\n",
      "Epoch 49/50\n",
      "78/78 [==============================] - 9s 111ms/step - loss: 0.1289 - acc: 0.9529 - val_loss: 0.3994 - val_acc: 0.9414\n",
      "Epoch 50/50\n",
      "78/78 [==============================] - 9s 112ms/step - loss: 0.1523 - acc: 0.9525 - val_loss: 0.3224 - val_acc: 0.9395\n"
     ]
    },
    {
     "data": {
      "text/plain": [
       "<keras.callbacks.History at 0x243e180c748>"
      ]
     },
     "execution_count": 8,
     "metadata": {},
     "output_type": "execute_result"
    }
   ],
   "source": [
    "model.fit_generator(\n",
    "        train_generator,\n",
    "        steps_per_epoch=nb_train_samples // batch_size,\n",
    "        epochs=50,\n",
    "        validation_data=val_generator,\n",
    "        validation_steps=nb_validation_samples // batch_size)"
   ]
  },
  {
   "cell_type": "code",
   "execution_count": 9,
   "metadata": {},
   "outputs": [],
   "source": [
    "import h5py"
   ]
  },
  {
   "cell_type": "code",
   "execution_count": 10,
   "metadata": {},
   "outputs": [],
   "source": [
    "model.save_weights(\"lenet2.h5\")\n"
   ]
  },
  {
   "cell_type": "code",
   "execution_count": 11,
   "metadata": {},
   "outputs": [],
   "source": [
    "scores = model.evaluate_generator(test_generator, nb_test_samples // batch_size)"
   ]
  },
  {
   "cell_type": "code",
   "execution_count": 12,
   "metadata": {},
   "outputs": [
    {
     "name": "stdout",
     "output_type": "stream",
     "text": [
      "Точность на тестовых данных: 95.96%\n"
     ]
    }
   ],
   "source": [
    "print(\"Точность на тестовых данных: %.2f%%\" % (scores[1]*100))"
   ]
  },
  {
   "cell_type": "code",
   "execution_count": null,
   "metadata": {},
   "outputs": [],
   "source": []
  }
 ],
 "metadata": {
  "kernelspec": {
   "display_name": "Python 3",
   "language": "python",
   "name": "python3"
  },
  "language_info": {
   "codemirror_mode": {
    "name": "ipython",
    "version": 3
   },
   "file_extension": ".py",
   "mimetype": "text/x-python",
   "name": "python",
   "nbconvert_exporter": "python",
   "pygments_lexer": "ipython3",
   "version": "3.5.5"
  }
 },
 "nbformat": 4,
 "nbformat_minor": 2
}
