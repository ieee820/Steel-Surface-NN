{
 "cells": [
  {
   "cell_type": "code",
   "execution_count": 21,
   "metadata": {},
   "outputs": [],
   "source": [
    "import numpy, pandas, sys, cv2, os\n",
    "from keras.preprocessing.image import ImageDataGenerator\n",
    "from keras.models import Sequential\n",
    "from keras.layers import Conv2D, MaxPooling2D\n",
    "from keras.layers import Activation, Dropout, Flatten, Dense\n",
    "from keras.optimizers import SGD\n",
    "import keras"
   ]
  },
  {
   "cell_type": "code",
   "execution_count": 29,
   "metadata": {},
   "outputs": [],
   "source": [
    "neu_data_dir = 'neu-data'\n",
    "train_dir = os.path.join(neu_data_dir, 'train')\n",
    "val_dir = os.path.join(neu_data_dir, 'val')\n",
    "test_dir = os.path.join(neu_data_dir, 'test')\n",
    "img_width, img_height = 200, 200\n",
    "input_shape = (img_width, img_height, 3)\n",
    "epochs = 50\n",
    "batch_size = 16\n",
    "nb_train_samples = 1254\n",
    "nb_validation_samples = 270    \n",
    "nb_test_samples = 276\n",
    "classes = 6"
   ]
  },
  {
   "cell_type": "code",
   "execution_count": 30,
   "metadata": {},
   "outputs": [],
   "source": [
    "datagen = ImageDataGenerator(\n",
    "        rotation_range=40,\n",
    "        width_shift_range=0.2,\n",
    "        height_shift_range=0.2,\n",
    "        rescale=1./255,\n",
    "        shear_range=0.2,\n",
    "        zoom_range=0.2,\n",
    "        horizontal_flip=True,\n",
    "        fill_mode='nearest')"
   ]
  },
  {
   "cell_type": "code",
   "execution_count": 31,
   "metadata": {},
   "outputs": [],
   "source": [
    "model = Sequential()\n",
    "model.add(Conv2D(32, (3, 3), input_shape=input_shape))\n",
    "model.add(Activation('relu'))\n",
    "model.add(MaxPooling2D(pool_size=(2, 2)))\n",
    "\n",
    "model.add(Conv2D(32, (3, 3)))\n",
    "model.add(Activation('relu'))\n",
    "model.add(MaxPooling2D(pool_size=(2, 2)))\n",
    "\n",
    "model.add(Conv2D(64, (3, 3)))\n",
    "model.add(Activation('relu'))\n",
    "model.add(MaxPooling2D(pool_size=(2, 2)))\n",
    "\n",
    "model.add(Flatten())  # this converts our 3D feature maps to 1D feature vectors\n",
    "model.add(Dense(64))\n",
    "model.add(Activation('relu'))\n",
    "model.add(Dropout(0.5))\n",
    "model.add(Dense(6))\n",
    "model.add(Activation('softmax'))\n",
    "\n",
    "model.compile(loss='categorical_crossentropy',\n",
    "              optimizer='adam',\n",
    "              metrics=['accuracy'])"
   ]
  },
  {
   "cell_type": "code",
   "execution_count": 32,
   "metadata": {},
   "outputs": [
    {
     "name": "stdout",
     "output_type": "stream",
     "text": [
      "Found 1254 images belonging to 6 classes.\n",
      "Found 270 images belonging to 6 classes.\n",
      "Found 276 images belonging to 6 classes.\n"
     ]
    }
   ],
   "source": [
    "train_generator = datagen.flow_from_directory(\n",
    "    train_dir,\n",
    "    target_size=(img_width, img_height),\n",
    "    batch_size=batch_size,\n",
    "    class_mode='categorical')\n",
    "val_generator = datagen.flow_from_directory(\n",
    "    val_dir,\n",
    "    target_size=(img_width, img_height),\n",
    "    batch_size=batch_size,\n",
    "    class_mode='categorical')\n",
    "test_generator = datagen.flow_from_directory(\n",
    "    test_dir,\n",
    "    target_size=(img_width, img_height),\n",
    "    batch_size=batch_size,\n",
    "    class_mode='categorical')"
   ]
  },
  {
   "cell_type": "code",
   "execution_count": 33,
   "metadata": {},
   "outputs": [],
   "source": [
    "check_point = keras.callbacks.ModelCheckpoint('LeNet3', monitor='acc', verbose=1, save_best_only=True, save_weights_only=False, mode='auto', period=1)"
   ]
  },
  {
   "cell_type": "code",
   "execution_count": 34,
   "metadata": {
    "scrolled": false
   },
   "outputs": [
    {
     "name": "stdout",
     "output_type": "stream",
     "text": [
      "Epoch 1/50\n",
      "78/78 [==============================] - 10s 127ms/step - loss: 1.7005 - acc: 0.2471 - val_loss: 1.7959 - val_acc: 0.1953\n",
      "\n",
      "Epoch 00001: acc improved from -inf to 0.24637, saving model to LeNet3\n",
      "Epoch 2/50\n",
      "78/78 [==============================] - 10s 125ms/step - loss: 1.5276 - acc: 0.3739 - val_loss: 1.8452 - val_acc: 0.3125\n",
      "\n",
      "Epoch 00002: acc improved from 0.24637 to 0.37157, saving model to LeNet3\n",
      "Epoch 3/50\n",
      "78/78 [==============================] - 10s 124ms/step - loss: 1.3698 - acc: 0.4480 - val_loss: 1.7619 - val_acc: 0.4727\n",
      "\n",
      "Epoch 00003: acc improved from 0.37157 to 0.45153, saving model to LeNet3\n",
      "Epoch 4/50\n",
      "78/78 [==============================] - 10s 123ms/step - loss: 1.1156 - acc: 0.6007 - val_loss: 1.7481 - val_acc: 0.6016\n",
      "\n",
      "Epoch 00004: acc improved from 0.45153 to 0.60420, saving model to LeNet3\n",
      "Epoch 5/50\n",
      "78/78 [==============================] - 9s 122ms/step - loss: 1.0189 - acc: 0.6263 - val_loss: 2.9351 - val_acc: 0.5547\n",
      "\n",
      "Epoch 00005: acc improved from 0.60420 to 0.62601, saving model to LeNet3\n",
      "Epoch 6/50\n",
      "78/78 [==============================] - 9s 120ms/step - loss: 0.9992 - acc: 0.6421 - val_loss: 1.8191 - val_acc: 0.6055\n",
      "\n",
      "Epoch 00006: acc improved from 0.62601 to 0.64055, saving model to LeNet3\n",
      "Epoch 7/50\n",
      "78/78 [==============================] - 9s 119ms/step - loss: 0.8191 - acc: 0.7108 - val_loss: 1.5541 - val_acc: 0.6836\n",
      "\n",
      "Epoch 00007: acc improved from 0.64055 to 0.71244, saving model to LeNet3\n",
      "Epoch 8/50\n",
      "78/78 [==============================] - 9s 120ms/step - loss: 0.8333 - acc: 0.7121 - val_loss: 1.4544 - val_acc: 0.6758\n",
      "\n",
      "Epoch 00008: acc improved from 0.71244 to 0.71244, saving model to LeNet3\n",
      "Epoch 9/50\n",
      "78/78 [==============================] - 9s 118ms/step - loss: 0.8063 - acc: 0.7249 - val_loss: 1.6992 - val_acc: 0.6914\n",
      "\n",
      "Epoch 00009: acc improved from 0.71244 to 0.72536, saving model to LeNet3\n",
      "Epoch 10/50\n",
      "78/78 [==============================] - 9s 116ms/step - loss: 0.6972 - acc: 0.7684 - val_loss: 1.8717 - val_acc: 0.6797\n",
      "\n",
      "Epoch 00010: acc improved from 0.72536 to 0.76656, saving model to LeNet3\n",
      "Epoch 11/50\n",
      "78/78 [==============================] - 9s 116ms/step - loss: 0.6359 - acc: 0.7861 - val_loss: 1.8263 - val_acc: 0.7461\n",
      "\n",
      "Epoch 00011: acc improved from 0.76656 to 0.78606, saving model to LeNet3\n",
      "Epoch 12/50\n",
      "78/78 [==============================] - 9s 114ms/step - loss: 0.6616 - acc: 0.7853 - val_loss: 1.7336 - val_acc: 0.6797\n",
      "\n",
      "Epoch 00012: acc did not improve\n",
      "Epoch 13/50\n",
      "78/78 [==============================] - 9s 113ms/step - loss: 0.6016 - acc: 0.7812 - val_loss: 1.6910 - val_acc: 0.7461\n",
      "\n",
      "Epoch 00013: acc did not improve\n",
      "Epoch 14/50\n",
      "78/78 [==============================] - 9s 112ms/step - loss: 0.5742 - acc: 0.7986 - val_loss: 1.6148 - val_acc: 0.7305\n",
      "\n",
      "Epoch 00014: acc improved from 0.78606 to 0.79968, saving model to LeNet3\n",
      "Epoch 15/50\n",
      "78/78 [==============================] - 9s 111ms/step - loss: 0.6620 - acc: 0.7743 - val_loss: 1.6285 - val_acc: 0.7227\n",
      "\n",
      "Epoch 00015: acc did not improve\n",
      "Epoch 16/50\n",
      "78/78 [==============================] - 9s 112ms/step - loss: 0.5891 - acc: 0.8037 - val_loss: 1.8214 - val_acc: 0.8008\n",
      "\n",
      "Epoch 00016: acc improved from 0.79968 to 0.80210, saving model to LeNet3\n",
      "Epoch 17/50\n",
      "78/78 [==============================] - 9s 112ms/step - loss: 0.5748 - acc: 0.7957 - val_loss: 1.2753 - val_acc: 0.7266\n",
      "\n",
      "Epoch 00017: acc did not improve\n",
      "Epoch 18/50\n",
      "78/78 [==============================] - 9s 112ms/step - loss: 0.5615 - acc: 0.8042 - val_loss: 1.6388 - val_acc: 0.7148\n",
      "\n",
      "Epoch 00018: acc improved from 0.80210 to 0.80533, saving model to LeNet3\n",
      "Epoch 19/50\n",
      "78/78 [==============================] - 9s 113ms/step - loss: 0.5245 - acc: 0.8235 - val_loss: 2.3843 - val_acc: 0.5938\n",
      "\n",
      "Epoch 00019: acc improved from 0.80533 to 0.82472, saving model to LeNet3\n",
      "Epoch 20/50\n",
      "78/78 [==============================] - 9s 113ms/step - loss: 0.5233 - acc: 0.8101 - val_loss: 1.9336 - val_acc: 0.6836\n",
      "\n",
      "Epoch 00020: acc did not improve\n",
      "Epoch 21/50\n",
      "78/78 [==============================] - 9s 111ms/step - loss: 0.4188 - acc: 0.8534 - val_loss: 1.5685 - val_acc: 0.7891\n",
      "\n",
      "Epoch 00021: acc improved from 0.82472 to 0.85218, saving model to LeNet3\n",
      "Epoch 22/50\n",
      "78/78 [==============================] - 9s 113ms/step - loss: 0.5162 - acc: 0.8325 - val_loss: 1.7844 - val_acc: 0.7578\n",
      "\n",
      "Epoch 00022: acc did not improve\n",
      "Epoch 23/50\n",
      "78/78 [==============================] - 9s 111ms/step - loss: 0.4216 - acc: 0.8549 - val_loss: 1.7162 - val_acc: 0.7188\n",
      "\n",
      "Epoch 00023: acc improved from 0.85218 to 0.85261, saving model to LeNet3\n",
      "Epoch 24/50\n",
      "78/78 [==============================] - 9s 112ms/step - loss: 0.3936 - acc: 0.8678 - val_loss: 1.8495 - val_acc: 0.7812\n",
      "\n",
      "Epoch 00024: acc improved from 0.85261 to 0.87076, saving model to LeNet3\n",
      "Epoch 25/50\n",
      "78/78 [==============================] - 9s 114ms/step - loss: 0.4462 - acc: 0.8454 - val_loss: 1.7430 - val_acc: 0.7773\n",
      "\n",
      "Epoch 00025: acc did not improve\n",
      "Epoch 26/50\n",
      "78/78 [==============================] - 9s 113ms/step - loss: 0.4124 - acc: 0.8657 - val_loss: 1.7849 - val_acc: 0.7812\n",
      "\n",
      "Epoch 00026: acc did not improve\n",
      "Epoch 27/50\n",
      "78/78 [==============================] - 9s 112ms/step - loss: 0.4049 - acc: 0.8656 - val_loss: 1.8023 - val_acc: 0.7188\n",
      "\n",
      "Epoch 00027: acc did not improve\n",
      "Epoch 28/50\n",
      "78/78 [==============================] - 9s 113ms/step - loss: 0.4779 - acc: 0.8389 - val_loss: 1.8504 - val_acc: 0.8125\n",
      "\n",
      "Epoch 00028: acc did not improve\n",
      "Epoch 29/50\n",
      "78/78 [==============================] - 9s 112ms/step - loss: 0.3750 - acc: 0.8726 - val_loss: 1.8034 - val_acc: 0.8125\n",
      "\n",
      "Epoch 00029: acc improved from 0.87076 to 0.87157, saving model to LeNet3\n",
      "Epoch 30/50\n",
      "78/78 [==============================] - 9s 113ms/step - loss: 0.3918 - acc: 0.8633 - val_loss: 1.7194 - val_acc: 0.7344\n",
      "\n",
      "Epoch 00030: acc did not improve\n",
      "Epoch 31/50\n",
      "78/78 [==============================] - 9s 113ms/step - loss: 0.4173 - acc: 0.8630 - val_loss: 1.8573 - val_acc: 0.7969\n",
      "\n",
      "Epoch 00031: acc did not improve\n",
      "Epoch 32/50\n",
      "78/78 [==============================] - 9s 113ms/step - loss: 0.5102 - acc: 0.8226 - val_loss: 2.2633 - val_acc: 0.5938\n",
      "\n",
      "Epoch 00032: acc did not improve\n",
      "Epoch 33/50\n",
      "78/78 [==============================] - 9s 114ms/step - loss: 0.4390 - acc: 0.8502 - val_loss: 2.1716 - val_acc: 0.6289\n",
      "\n",
      "Epoch 00033: acc did not improve\n",
      "Epoch 34/50\n",
      "78/78 [==============================] - 9s 113ms/step - loss: 0.3807 - acc: 0.8713 - val_loss: 2.0267 - val_acc: 0.6758\n",
      "\n",
      "Epoch 00034: acc did not improve\n",
      "Epoch 35/50\n",
      "78/78 [==============================] - 9s 112ms/step - loss: 0.4290 - acc: 0.8595 - val_loss: 1.7502 - val_acc: 0.7578\n",
      "\n",
      "Epoch 00035: acc did not improve\n",
      "Epoch 36/50\n",
      "78/78 [==============================] - 9s 113ms/step - loss: 0.4138 - acc: 0.8616 - val_loss: 1.7815 - val_acc: 0.8164\n",
      "\n",
      "Epoch 00036: acc did not improve\n",
      "Epoch 37/50\n",
      "78/78 [==============================] - 9s 112ms/step - loss: 0.4235 - acc: 0.8598 - val_loss: 1.8197 - val_acc: 0.7930\n",
      "\n",
      "Epoch 00037: acc did not improve\n",
      "Epoch 38/50\n",
      "78/78 [==============================] - 9s 112ms/step - loss: 0.3515 - acc: 0.8918 - val_loss: 1.9405 - val_acc: 0.7227\n",
      "\n",
      "Epoch 00038: acc improved from 0.87157 to 0.89095, saving model to LeNet3\n",
      "Epoch 39/50\n",
      "78/78 [==============================] - 9s 112ms/step - loss: 0.3059 - acc: 0.9014 - val_loss: 1.8012 - val_acc: 0.7930\n",
      "\n",
      "Epoch 00039: acc improved from 0.89095 to 0.90065, saving model to LeNet3\n",
      "Epoch 40/50\n",
      "78/78 [==============================] - 9s 113ms/step - loss: 0.3392 - acc: 0.8870 - val_loss: 1.7259 - val_acc: 0.8320\n",
      "\n",
      "Epoch 00040: acc did not improve\n",
      "Epoch 41/50\n",
      "78/78 [==============================] - 9s 114ms/step - loss: 0.7150 - acc: 0.7583 - val_loss: 1.0745 - val_acc: 0.6211\n",
      "\n",
      "Epoch 00041: acc did not improve\n",
      "Epoch 42/50\n",
      "78/78 [==============================] - 9s 113ms/step - loss: 0.6084 - acc: 0.8023 - val_loss: 1.2012 - val_acc: 0.6992\n",
      "\n",
      "Epoch 00042: acc did not improve\n",
      "Epoch 43/50\n",
      "78/78 [==============================] - 9s 113ms/step - loss: 0.4770 - acc: 0.8352 - val_loss: 1.6829 - val_acc: 0.7422\n",
      "\n",
      "Epoch 00043: acc did not improve\n",
      "Epoch 44/50\n",
      "78/78 [==============================] - 9s 113ms/step - loss: 0.4728 - acc: 0.8453 - val_loss: 1.7154 - val_acc: 0.7734\n",
      "\n",
      "Epoch 00044: acc did not improve\n",
      "Epoch 45/50\n"
     ]
    },
    {
     "name": "stdout",
     "output_type": "stream",
     "text": [
      "78/78 [==============================] - 9s 112ms/step - loss: 0.4056 - acc: 0.8704 - val_loss: 1.7700 - val_acc: 0.7656\n",
      "\n",
      "Epoch 00045: acc did not improve\n",
      "Epoch 46/50\n",
      "78/78 [==============================] - 9s 113ms/step - loss: 0.4204 - acc: 0.8606 - val_loss: 1.9516 - val_acc: 0.7656\n",
      "\n",
      "Epoch 00046: acc did not improve\n",
      "Epoch 47/50\n",
      "78/78 [==============================] - 9s 112ms/step - loss: 0.4215 - acc: 0.8516 - val_loss: 1.7989 - val_acc: 0.7227\n",
      "\n",
      "Epoch 00047: acc did not improve\n",
      "Epoch 48/50\n",
      "78/78 [==============================] - 9s 113ms/step - loss: 0.3955 - acc: 0.8606 - val_loss: 1.8647 - val_acc: 0.7773\n",
      "\n",
      "Epoch 00048: acc did not improve\n",
      "Epoch 49/50\n",
      "78/78 [==============================] - 9s 114ms/step - loss: 0.3139 - acc: 0.9022 - val_loss: 1.9250 - val_acc: 0.7148\n",
      "\n",
      "Epoch 00049: acc improved from 0.90065 to 0.90224, saving model to LeNet3\n",
      "Epoch 50/50\n",
      "78/78 [==============================] - 9s 112ms/step - loss: 0.3494 - acc: 0.8878 - val_loss: 1.9085 - val_acc: 0.7852\n",
      "\n",
      "Epoch 00050: acc did not improve\n"
     ]
    },
    {
     "data": {
      "text/plain": [
       "<keras.callbacks.History at 0x1a5263c75f8>"
      ]
     },
     "execution_count": 34,
     "metadata": {},
     "output_type": "execute_result"
    }
   ],
   "source": [
    "model.fit_generator(\n",
    "        train_generator,\n",
    "        steps_per_epoch=nb_train_samples // batch_size,\n",
    "        epochs=epochs,\n",
    "        validation_data=val_generator,\n",
    "        validation_steps=nb_validation_samples // batch_size,\n",
    "        verbose=1, \n",
    "        callbacks=[check_point])"
   ]
  },
  {
   "cell_type": "code",
   "execution_count": 35,
   "metadata": {},
   "outputs": [],
   "source": [
    "import h5py\n"
   ]
  },
  {
   "cell_type": "code",
   "execution_count": 36,
   "metadata": {},
   "outputs": [],
   "source": [
    "model.save_weights(\"lenet3.h5\")"
   ]
  },
  {
   "cell_type": "code",
   "execution_count": 37,
   "metadata": {},
   "outputs": [],
   "source": [
    "scores = model.evaluate_generator(test_generator, nb_test_samples // batch_size)"
   ]
  },
  {
   "cell_type": "code",
   "execution_count": 38,
   "metadata": {},
   "outputs": [
    {
     "name": "stdout",
     "output_type": "stream",
     "text": [
      "Точность на тестовых данных: 86.76%\n"
     ]
    }
   ],
   "source": [
    "print(\"Точность на тестовых данных: %.2f%%\" % (scores[1]*100))"
   ]
  },
  {
   "cell_type": "code",
   "execution_count": null,
   "metadata": {},
   "outputs": [],
   "source": []
  }
 ],
 "metadata": {
  "kernelspec": {
   "display_name": "Python 3",
   "language": "python",
   "name": "python3"
  },
  "language_info": {
   "codemirror_mode": {
    "name": "ipython",
    "version": 3
   },
   "file_extension": ".py",
   "mimetype": "text/x-python",
   "name": "python",
   "nbconvert_exporter": "python",
   "pygments_lexer": "ipython3",
   "version": "3.5.5"
  }
 },
 "nbformat": 4,
 "nbformat_minor": 2
}
