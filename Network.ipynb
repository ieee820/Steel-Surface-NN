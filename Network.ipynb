{
 "cells": [
  {
   "cell_type": "code",
   "execution_count": 1,
   "metadata": {},
   "outputs": [],
   "source": [
    "%matplotlib inline"
   ]
  },
  {
   "cell_type": "code",
   "execution_count": 2,
   "metadata": {},
   "outputs": [],
   "source": [
    "import numpy as np\n",
    "import pandas as pd\n",
    "import matplotlib.pyplot as plt\n",
    "import sys, cv2, os, shutil, random, string"
   ]
  },
  {
   "cell_type": "code",
   "execution_count": 3,
   "metadata": {},
   "outputs": [
    {
     "name": "stderr",
     "output_type": "stream",
     "text": [
      "C:\\Programs\\Anaconda3\\envs\\ai\\lib\\site-packages\\h5py\\__init__.py:36: FutureWarning: Conversion of the second argument of issubdtype from `float` to `np.floating` is deprecated. In future, it will be treated as `np.float64 == np.dtype(float).type`.\n",
      "  from ._conv import register_converters as _register_converters\n",
      "Using TensorFlow backend.\n"
     ]
    }
   ],
   "source": [
    "import keras, h5py\n",
    "from keras.preprocessing.image import ImageDataGenerator\n",
    "from keras.models import Sequential\n",
    "from keras.layers import Conv2D, MaxPooling2D\n",
    "from keras.layers import Activation, Dropout, Flatten, Dense\n",
    "from keras.optimizers import SGD\n",
    "from keras.utils import plot_model\n",
    "from keras.callbacks import TensorBoard"
   ]
  },
  {
   "cell_type": "code",
   "execution_count": 4,
   "metadata": {},
   "outputs": [],
   "source": [
    "class NeuClassificationSurfaceDefects:\n",
    "    source_data_dir = 'sources/NEU-CLS'\n",
    "    formatted_data = 'neu-data'\n",
    "    \n",
    "    train_dir = os.path.join(formatted_data, 'train')\n",
    "    val_dir = os.path.join(formatted_data, 'val')\n",
    "    test_dir = os.path.join(formatted_data, 'test')\n",
    "    \n",
    "    test_data_portion = 0.15\n",
    "    val_data_portion = 0.15\n",
    "    \n",
    "    classes = ['rolled-in scale', 'patches', 'crazing', 'pitted surface', 'inclusion', 'scratches']\n",
    "    short_classes = ['RS', 'Pa', 'Cr','PS', 'In', 'Sc']\n",
    "    nb_images = 300\n",
    "    \n",
    "    img_width, img_height = 200, 200\n",
    "    \n",
    "    input_shape = (img_width, img_height, 3)\n",
    "    total_classes = len(classes)\n",
    "    \n",
    "    nb_train_samples = 1254\n",
    "    nb_validation_samples = 270    \n",
    "    nb_test_samples = 276\n",
    "    \n",
    "    @classmethod\n",
    "    def get_generators(cls, batch_size, use_samplewise=True):\n",
    "        datagen = ImageDataGenerator(\n",
    "            samplewise_center=use_samplewise, \n",
    "            samplewise_std_normalization=use_samplewise,\n",
    "            featurewise_center=not use_samplewise,\n",
    "            featurewise_std_normalization=not use_samplewise,\n",
    "            rotation_range=40,\n",
    "            width_shift_range=0.2,\n",
    "            height_shift_range=0.2,\n",
    "            rescale=1. / 255,\n",
    "            shear_range=0.2,\n",
    "            zoom_range=0.2,\n",
    "            horizontal_flip=True,\n",
    "            fill_mode='nearest')\n",
    "        train_generator = datagen.flow_from_directory(\n",
    "            cls.train_dir,\n",
    "            target_size=(cls.img_width, cls.img_height),\n",
    "            batch_size=batch_size,\n",
    "            class_mode='categorical')\n",
    "        val_generator = datagen.flow_from_directory(\n",
    "            cls.val_dir,\n",
    "            target_size=(cls.img_width, cls.img_height),\n",
    "            batch_size=batch_size,\n",
    "            class_mode='categorical')\n",
    "        test_generator = datagen.flow_from_directory(\n",
    "            cls.test_dir,\n",
    "            target_size=(cls.img_width, cls.img_height),\n",
    "            batch_size=batch_size,\n",
    "            class_mode='categorical')\n",
    "        return train_generator, val_generator, test_generator\n",
    "    \n",
    "    @classmethod\n",
    "    def prepare_data(cls):\n",
    "        \n",
    "        def create_directory(dir_name):\n",
    "            if os.path.exists(dir_name):\n",
    "                shutil.rmtree(dir_name)\n",
    "            os.makedirs(dir_name)\n",
    "            for c in cls.classes: \n",
    "                os.makedirs(os.path.join(dir_name, c))\n",
    "            print('Directory \"' + dir_name + '\" was created.')\n",
    "        \n",
    "        create_directory(cls.train_dir)\n",
    "        create_directory(cls.val_dir)\n",
    "        create_directory(cls.test_dir)\n",
    "    \n",
    "        def copy_images(start_index, end_index, source_dir, dest_dir):\n",
    "            for i in range(start_index, end_index):\n",
    "                for j in range(len(cls.classes)):\n",
    "                    shutil.copy2(os.path.join(source_dir, cls.short_classes[j] + \"_\" + str(i) + \".bmp\"), \n",
    "                                 os.path.join(dest_dir, cls.classes[j]))\n",
    "                    \n",
    "        start_val_data_idx = int(cls.nb_images * (1 - cls.val_data_portion - cls.test_data_portion))\n",
    "        start_test_data_idx = int(cls.nb_images * (1 - cls.test_data_portion))\n",
    "        print(\"Train[{}, {}], Val[{}, {}], Test[{}, {}]\".format(1, start_val_data_idx - 1, start_val_data_idx, start_test_data_idx - 1, start_test_data_idx, cls.nb_images ))\n",
    "        copy_images(1, start_val_data_idx, cls.source_data_dir, cls.train_dir)\n",
    "        print(\"Train data prepared\")\n",
    "        copy_images(start_val_data_idx, start_test_data_idx, cls.source_data_dir, cls.val_dir)\n",
    "        print(\"Val data prepared\")\n",
    "        copy_images(start_test_data_idx, cls.nb_images + 1, cls.source_data_dir, cls.test_dir)\n",
    "        print(\"Test data prepared\")"
   ]
  },
  {
   "cell_type": "markdown",
   "metadata": {},
   "source": [
    "Запускать при изменении параметров в `NeuClassificationSurfaceDefects`"
   ]
  },
  {
   "cell_type": "code",
   "execution_count": 5,
   "metadata": {
    "scrolled": true
   },
   "outputs": [],
   "source": [
    "# NeuClassificationSurfaceDefects.prepare_data()"
   ]
  },
  {
   "cell_type": "code",
   "execution_count": 6,
   "metadata": {},
   "outputs": [],
   "source": [
    "network_name = 'Network-{}'.format(''.join(random.choice(string.ascii_uppercase + string.digits) for _ in range(10)))\n",
    "model_dir = os.path.join('models', network_name)\n",
    "model_file_path = os.path.join(model_dir, '{}.model'.format(network_name))\n",
    "os.makedirs(model_dir)"
   ]
  },
  {
   "cell_type": "markdown",
   "metadata": {},
   "source": [
    "### Основные параметры"
   ]
  },
  {
   "cell_type": "code",
   "execution_count": 7,
   "metadata": {
    "scrolled": true
   },
   "outputs": [],
   "source": [
    "batch_size = 8\n",
    "epochs = 1000\n",
    "steps_per_epoch = NeuClassificationSurfaceDefects.nb_train_samples // batch_size\n",
    "validation_steps = NeuClassificationSurfaceDefects.nb_validation_samples // batch_size\n",
    "input_shape = NeuClassificationSurfaceDefects.input_shape"
   ]
  },
  {
   "cell_type": "markdown",
   "metadata": {},
   "source": [
    "При передаче параметра `use_samplewise=False`, будет использована featurewise-нормализация."
   ]
  },
  {
   "cell_type": "code",
   "execution_count": 8,
   "metadata": {
    "scrolled": true
   },
   "outputs": [
    {
     "name": "stdout",
     "output_type": "stream",
     "text": [
      "Found 1254 images belonging to 6 classes.\n",
      "Found 270 images belonging to 6 classes.\n",
      "Found 276 images belonging to 6 classes.\n"
     ]
    }
   ],
   "source": [
    "train_generator, val_generator, test_generator = NeuClassificationSurfaceDefects.get_generators(batch_size)"
   ]
  },
  {
   "cell_type": "markdown",
   "metadata": {},
   "source": [
    "### Callbacks"
   ]
  },
  {
   "cell_type": "code",
   "execution_count": 9,
   "metadata": {},
   "outputs": [],
   "source": [
    "check_point = keras.callbacks.ModelCheckpoint(model_file_path, \n",
    "                                              monitor='val_acc', verbose=1,\n",
    "                                              save_best_only=True,\n",
    "                                              save_weights_only=False,\n",
    "                                              mode='auto', \n",
    "                                              period=1)\n",
    "early_stopping = keras.callbacks.EarlyStopping(monitor='val_acc', \n",
    "                                               min_delta=0, \n",
    "                                               patience=10, \n",
    "                                               verbose=1, \n",
    "                                               mode='auto')\n",
    "tb_callback = TensorBoard(log_dir=os.path.join(model_dir,'Graph'),\n",
    "                          histogram_freq=0,\n",
    "                          write_graph=True,\n",
    "                          write_images=True)"
   ]
  },
  {
   "cell_type": "markdown",
   "metadata": {},
   "source": [
    "### Архитектура сети"
   ]
  },
  {
   "cell_type": "code",
   "execution_count": 10,
   "metadata": {
    "scrolled": false
   },
   "outputs": [],
   "source": [
    "model = Sequential()\n",
    "\n",
    "model.add(Conv2D(128, (3, 3), input_shape=input_shape, padding='same'))\n",
    "model.add(Activation('relu'))\n",
    "model.add(MaxPooling2D(pool_size=(2, 2)))\n",
    "\n",
    "model.add(Conv2D(32, (3, 3), padding='same'))\n",
    "model.add(Activation('relu'))\n",
    "model.add(MaxPooling2D(pool_size=(2, 2)))\n",
    "\n",
    "model.add(Conv2D(64, (3, 3), padding='same'))\n",
    "model.add(Activation('relu'))\n",
    "model.add(MaxPooling2D(pool_size=(2, 2)))\n",
    "\n",
    "model.add(Conv2D(64, (3, 3), padding='same'))\n",
    "model.add(Activation('relu'))\n",
    "model.add(MaxPooling2D(pool_size=(2, 2)))\n",
    "\n",
    "model.add(Conv2D(128, (3, 3), padding='same'))\n",
    "model.add(Activation('relu'))\n",
    "model.add(MaxPooling2D(pool_size=(2, 2)))\n",
    "\n",
    "model.add(Flatten())  # this converts our 3D feature maps to 1D feature vectors\n",
    "model.add(Dense(64))\n",
    "model.add(Activation('relu'))\n",
    "model.add(Dropout(0.5))\n",
    "model.add(Dense(6))\n",
    "model.add(Activation('softmax'))\n"
   ]
  },
  {
   "cell_type": "code",
   "execution_count": 11,
   "metadata": {},
   "outputs": [],
   "source": [
    "model.compile(loss='categorical_crossentropy',\n",
    "              optimizer='adam',\n",
    "              metrics=['accuracy'])"
   ]
  },
  {
   "cell_type": "code",
   "execution_count": 12,
   "metadata": {},
   "outputs": [
    {
     "name": "stdout",
     "output_type": "stream",
     "text": [
      "_________________________________________________________________\n",
      "Layer (type)                 Output Shape              Param #   \n",
      "=================================================================\n",
      "conv2d_1 (Conv2D)            (None, 200, 200, 128)     3584      \n",
      "_________________________________________________________________\n",
      "activation_1 (Activation)    (None, 200, 200, 128)     0         \n",
      "_________________________________________________________________\n",
      "max_pooling2d_1 (MaxPooling2 (None, 100, 100, 128)     0         \n",
      "_________________________________________________________________\n",
      "conv2d_2 (Conv2D)            (None, 100, 100, 32)      36896     \n",
      "_________________________________________________________________\n",
      "activation_2 (Activation)    (None, 100, 100, 32)      0         \n",
      "_________________________________________________________________\n",
      "max_pooling2d_2 (MaxPooling2 (None, 50, 50, 32)        0         \n",
      "_________________________________________________________________\n",
      "conv2d_3 (Conv2D)            (None, 50, 50, 64)        18496     \n",
      "_________________________________________________________________\n",
      "activation_3 (Activation)    (None, 50, 50, 64)        0         \n",
      "_________________________________________________________________\n",
      "max_pooling2d_3 (MaxPooling2 (None, 25, 25, 64)        0         \n",
      "_________________________________________________________________\n",
      "conv2d_4 (Conv2D)            (None, 25, 25, 64)        36928     \n",
      "_________________________________________________________________\n",
      "activation_4 (Activation)    (None, 25, 25, 64)        0         \n",
      "_________________________________________________________________\n",
      "max_pooling2d_4 (MaxPooling2 (None, 12, 12, 64)        0         \n",
      "_________________________________________________________________\n",
      "conv2d_5 (Conv2D)            (None, 12, 12, 128)       73856     \n",
      "_________________________________________________________________\n",
      "activation_5 (Activation)    (None, 12, 12, 128)       0         \n",
      "_________________________________________________________________\n",
      "max_pooling2d_5 (MaxPooling2 (None, 6, 6, 128)         0         \n",
      "_________________________________________________________________\n",
      "flatten_1 (Flatten)          (None, 4608)              0         \n",
      "_________________________________________________________________\n",
      "dense_1 (Dense)              (None, 64)                294976    \n",
      "_________________________________________________________________\n",
      "activation_6 (Activation)    (None, 64)                0         \n",
      "_________________________________________________________________\n",
      "dropout_1 (Dropout)          (None, 64)                0         \n",
      "_________________________________________________________________\n",
      "dense_2 (Dense)              (None, 6)                 390       \n",
      "_________________________________________________________________\n",
      "activation_7 (Activation)    (None, 6)                 0         \n",
      "=================================================================\n",
      "Total params: 465,126\n",
      "Trainable params: 465,126\n",
      "Non-trainable params: 0\n",
      "_________________________________________________________________\n"
     ]
    }
   ],
   "source": [
    "model.summary()"
   ]
  },
  {
   "cell_type": "code",
   "execution_count": 13,
   "metadata": {
    "scrolled": false
   },
   "outputs": [
    {
     "name": "stdout",
     "output_type": "stream",
     "text": [
      "Epoch 1/1000\n",
      "156/156 [==============================] - 29s 188ms/step - loss: 1.5896 - acc: 0.2837 - val_loss: 1.3278 - val_acc: 0.4318\n",
      "\n",
      "Epoch 00001: val_acc improved from -inf to 0.43182, saving model to models\\Network-3OP0MWPAY7\\Network-3OP0MWPAY7.model\n",
      "Epoch 2/1000\n",
      "156/156 [==============================] - 11s 73ms/step - loss: 1.2854 - acc: 0.4506 - val_loss: 0.9176 - val_acc: 0.5795\n",
      "\n",
      "Epoch 00002: val_acc improved from 0.43182 to 0.57955, saving model to models\\Network-3OP0MWPAY7\\Network-3OP0MWPAY7.model\n",
      "Epoch 3/1000\n",
      "156/156 [==============================] - 11s 72ms/step - loss: 1.1554 - acc: 0.4768 - val_loss: 0.8718 - val_acc: 0.5492\n",
      "\n",
      "Epoch 00003: val_acc did not improve\n",
      "Epoch 4/1000\n",
      "156/156 [==============================] - 11s 72ms/step - loss: 1.0191 - acc: 0.5449 - val_loss: 0.6731 - val_acc: 0.7121\n",
      "\n",
      "Epoch 00004: val_acc improved from 0.57955 to 0.71212, saving model to models\\Network-3OP0MWPAY7\\Network-3OP0MWPAY7.model\n",
      "Epoch 5/1000\n",
      "156/156 [==============================] - 11s 73ms/step - loss: 0.9040 - acc: 0.6271 - val_loss: 0.6329 - val_acc: 0.6780\n",
      "\n",
      "Epoch 00005: val_acc did not improve\n",
      "Epoch 6/1000\n",
      "156/156 [==============================] - 11s 73ms/step - loss: 0.8779 - acc: 0.6311 - val_loss: 0.6828 - val_acc: 0.6477\n",
      "\n",
      "Epoch 00006: val_acc did not improve\n",
      "Epoch 7/1000\n",
      "156/156 [==============================] - 11s 71ms/step - loss: 0.8022 - acc: 0.6752 - val_loss: 0.6379 - val_acc: 0.7311\n",
      "\n",
      "Epoch 00007: val_acc improved from 0.71212 to 0.73106, saving model to models\\Network-3OP0MWPAY7\\Network-3OP0MWPAY7.model\n",
      "Epoch 8/1000\n",
      "156/156 [==============================] - 11s 71ms/step - loss: 0.7295 - acc: 0.7049 - val_loss: 0.4879 - val_acc: 0.7992\n",
      "\n",
      "Epoch 00008: val_acc improved from 0.73106 to 0.79924, saving model to models\\Network-3OP0MWPAY7\\Network-3OP0MWPAY7.model\n",
      "Epoch 9/1000\n",
      "156/156 [==============================] - 11s 71ms/step - loss: 0.6661 - acc: 0.7679 - val_loss: 0.4849 - val_acc: 0.7500\n",
      "\n",
      "Epoch 00009: val_acc did not improve\n",
      "Epoch 10/1000\n",
      "156/156 [==============================] - 11s 71ms/step - loss: 0.5326 - acc: 0.8005 - val_loss: 0.5053 - val_acc: 0.7841\n",
      "\n",
      "Epoch 00010: val_acc did not improve\n",
      "Epoch 11/1000\n",
      "156/156 [==============================] - 11s 70ms/step - loss: 0.5086 - acc: 0.8181 - val_loss: 0.5156 - val_acc: 0.7576\n",
      "\n",
      "Epoch 00011: val_acc did not improve\n",
      "Epoch 12/1000\n",
      "156/156 [==============================] - 11s 71ms/step - loss: 0.5051 - acc: 0.8136 - val_loss: 0.5936 - val_acc: 0.7538\n",
      "\n",
      "Epoch 00012: val_acc did not improve\n",
      "Epoch 13/1000\n",
      "156/156 [==============================] - 11s 71ms/step - loss: 0.4640 - acc: 0.8520 - val_loss: 0.4876 - val_acc: 0.7992\n",
      "\n",
      "Epoch 00013: val_acc did not improve\n",
      "Epoch 14/1000\n",
      "156/156 [==============================] - 11s 71ms/step - loss: 0.5568 - acc: 0.8040 - val_loss: 0.4201 - val_acc: 0.8220\n",
      "\n",
      "Epoch 00014: val_acc improved from 0.79924 to 0.82197, saving model to models\\Network-3OP0MWPAY7\\Network-3OP0MWPAY7.model\n",
      "Epoch 15/1000\n",
      "156/156 [==============================] - 11s 70ms/step - loss: 0.3749 - acc: 0.8830 - val_loss: 1.4232 - val_acc: 0.6439\n",
      "\n",
      "Epoch 00015: val_acc did not improve\n",
      "Epoch 16/1000\n",
      "156/156 [==============================] - 11s 70ms/step - loss: 0.4044 - acc: 0.8755 - val_loss: 0.5202 - val_acc: 0.8030\n",
      "\n",
      "Epoch 00016: val_acc did not improve\n",
      "Epoch 17/1000\n",
      "156/156 [==============================] - 11s 70ms/step - loss: 0.3874 - acc: 0.8814 - val_loss: 0.5530 - val_acc: 0.7879\n",
      "\n",
      "Epoch 00017: val_acc did not improve\n",
      "Epoch 18/1000\n",
      "156/156 [==============================] - 11s 70ms/step - loss: 0.4259 - acc: 0.8779 - val_loss: 0.4573 - val_acc: 0.8371\n",
      "\n",
      "Epoch 00018: val_acc improved from 0.82197 to 0.83712, saving model to models\\Network-3OP0MWPAY7\\Network-3OP0MWPAY7.model\n",
      "Epoch 19/1000\n",
      "156/156 [==============================] - 11s 69ms/step - loss: 0.3405 - acc: 0.8878 - val_loss: 0.7025 - val_acc: 0.8182\n",
      "\n",
      "Epoch 00019: val_acc did not improve\n",
      "Epoch 20/1000\n",
      "156/156 [==============================] - 11s 70ms/step - loss: 0.3222 - acc: 0.8966 - val_loss: 0.5222 - val_acc: 0.7992\n",
      "\n",
      "Epoch 00020: val_acc did not improve\n",
      "Epoch 21/1000\n",
      "156/156 [==============================] - 11s 69ms/step - loss: 0.2567 - acc: 0.9167 - val_loss: 0.4247 - val_acc: 0.8788\n",
      "\n",
      "Epoch 00021: val_acc improved from 0.83712 to 0.87879, saving model to models\\Network-3OP0MWPAY7\\Network-3OP0MWPAY7.model\n",
      "Epoch 22/1000\n",
      "156/156 [==============================] - 11s 70ms/step - loss: 0.3072 - acc: 0.9135 - val_loss: 0.4391 - val_acc: 0.8674\n",
      "\n",
      "Epoch 00022: val_acc did not improve\n",
      "Epoch 23/1000\n",
      "156/156 [==============================] - 11s 69ms/step - loss: 0.3198 - acc: 0.9062 - val_loss: 0.9558 - val_acc: 0.7197\n",
      "\n",
      "Epoch 00023: val_acc did not improve\n",
      "Epoch 24/1000\n",
      "156/156 [==============================] - 11s 70ms/step - loss: 0.3203 - acc: 0.9041 - val_loss: 0.3783 - val_acc: 0.8750\n",
      "\n",
      "Epoch 00024: val_acc did not improve\n",
      "Epoch 25/1000\n",
      "156/156 [==============================] - 11s 69ms/step - loss: 0.2223 - acc: 0.9258 - val_loss: 0.3660 - val_acc: 0.8939\n",
      "\n",
      "Epoch 00025: val_acc improved from 0.87879 to 0.89394, saving model to models\\Network-3OP0MWPAY7\\Network-3OP0MWPAY7.model\n",
      "Epoch 26/1000\n",
      "156/156 [==============================] - 11s 70ms/step - loss: 0.3057 - acc: 0.9156 - val_loss: 0.3349 - val_acc: 0.8826\n",
      "\n",
      "Epoch 00026: val_acc did not improve\n",
      "Epoch 27/1000\n",
      "156/156 [==============================] - 11s 70ms/step - loss: 0.2850 - acc: 0.9103 - val_loss: 0.4684 - val_acc: 0.8447\n",
      "\n",
      "Epoch 00027: val_acc did not improve\n",
      "Epoch 28/1000\n",
      "156/156 [==============================] - 11s 71ms/step - loss: 0.2026 - acc: 0.9415 - val_loss: 0.2212 - val_acc: 0.9167\n",
      "\n",
      "Epoch 00028: val_acc improved from 0.89394 to 0.91667, saving model to models\\Network-3OP0MWPAY7\\Network-3OP0MWPAY7.model\n",
      "Epoch 29/1000\n",
      "156/156 [==============================] - 11s 70ms/step - loss: 0.2225 - acc: 0.9343 - val_loss: 0.3499 - val_acc: 0.8826\n",
      "\n",
      "Epoch 00029: val_acc did not improve\n",
      "Epoch 30/1000\n",
      "156/156 [==============================] - 11s 70ms/step - loss: 0.5345 - acc: 0.8229 - val_loss: 0.4585 - val_acc: 0.8409\n",
      "\n",
      "Epoch 00030: val_acc did not improve\n",
      "Epoch 31/1000\n",
      "156/156 [==============================] - 11s 71ms/step - loss: 0.3501 - acc: 0.8900 - val_loss: 0.3539 - val_acc: 0.8902\n",
      "\n",
      "Epoch 00031: val_acc did not improve\n",
      "Epoch 32/1000\n",
      "156/156 [==============================] - 11s 70ms/step - loss: 0.2361 - acc: 0.9311 - val_loss: 0.5729 - val_acc: 0.8636\n",
      "\n",
      "Epoch 00032: val_acc did not improve\n",
      "Epoch 33/1000\n",
      "156/156 [==============================] - 11s 70ms/step - loss: 0.1813 - acc: 0.9415 - val_loss: 0.5778 - val_acc: 0.8182\n",
      "\n",
      "Epoch 00033: val_acc did not improve\n",
      "Epoch 34/1000\n",
      "156/156 [==============================] - 11s 70ms/step - loss: 0.2461 - acc: 0.9239 - val_loss: 0.3297 - val_acc: 0.8712\n",
      "\n",
      "Epoch 00034: val_acc did not improve\n",
      "Epoch 35/1000\n",
      "156/156 [==============================] - 11s 70ms/step - loss: 0.1782 - acc: 0.9415 - val_loss: 0.3994 - val_acc: 0.8636\n",
      "\n",
      "Epoch 00035: val_acc did not improve\n",
      "Epoch 36/1000\n",
      "156/156 [==============================] - 11s 70ms/step - loss: 0.1581 - acc: 0.9511 - val_loss: 0.3792 - val_acc: 0.9129\n",
      "\n",
      "Epoch 00036: val_acc did not improve\n",
      "Epoch 37/1000\n",
      "156/156 [==============================] - 11s 70ms/step - loss: 0.1479 - acc: 0.9557 - val_loss: 0.3124 - val_acc: 0.9205\n",
      "\n",
      "Epoch 00037: val_acc improved from 0.91667 to 0.92045, saving model to models\\Network-3OP0MWPAY7\\Network-3OP0MWPAY7.model\n",
      "Epoch 38/1000\n",
      "156/156 [==============================] - 11s 70ms/step - loss: 0.1039 - acc: 0.9712 - val_loss: 0.3716 - val_acc: 0.9015\n",
      "\n",
      "Epoch 00038: val_acc did not improve\n",
      "Epoch 39/1000\n",
      "156/156 [==============================] - 11s 69ms/step - loss: 0.2518 - acc: 0.9364 - val_loss: 0.4506 - val_acc: 0.8902\n",
      "\n",
      "Epoch 00039: val_acc did not improve\n",
      "Epoch 40/1000\n",
      "156/156 [==============================] - 11s 70ms/step - loss: 0.1419 - acc: 0.9551 - val_loss: 0.3707 - val_acc: 0.9167\n",
      "\n",
      "Epoch 00040: val_acc did not improve\n",
      "Epoch 41/1000\n",
      "156/156 [==============================] - 11s 70ms/step - loss: 0.2083 - acc: 0.9479 - val_loss: 0.8948 - val_acc: 0.8295\n",
      "\n",
      "Epoch 00041: val_acc did not improve\n",
      "Epoch 42/1000\n",
      "156/156 [==============================] - 11s 70ms/step - loss: 0.3849 - acc: 0.9022 - val_loss: 0.7511 - val_acc: 0.7917\n"
     ]
    },
    {
     "name": "stdout",
     "output_type": "stream",
     "text": [
      "\n",
      "Epoch 00042: val_acc did not improve\n",
      "Epoch 43/1000\n",
      "156/156 [==============================] - 11s 69ms/step - loss: 0.2044 - acc: 0.9415 - val_loss: 0.4090 - val_acc: 0.9129\n",
      "\n",
      "Epoch 00043: val_acc did not improve\n",
      "Epoch 44/1000\n",
      "156/156 [==============================] - 11s 69ms/step - loss: 0.2805 - acc: 0.9167 - val_loss: 0.6142 - val_acc: 0.8333\n",
      "\n",
      "Epoch 00044: val_acc did not improve\n",
      "Epoch 45/1000\n",
      "156/156 [==============================] - 11s 70ms/step - loss: 0.1036 - acc: 0.9647 - val_loss: 0.2127 - val_acc: 0.9432\n",
      "\n",
      "Epoch 00045: val_acc improved from 0.92045 to 0.94318, saving model to models\\Network-3OP0MWPAY7\\Network-3OP0MWPAY7.model\n",
      "Epoch 46/1000\n",
      "156/156 [==============================] - 11s 70ms/step - loss: 0.1586 - acc: 0.9565 - val_loss: 0.3971 - val_acc: 0.9015\n",
      "\n",
      "Epoch 00046: val_acc did not improve\n",
      "Epoch 47/1000\n",
      "156/156 [==============================] - 11s 69ms/step - loss: 0.1453 - acc: 0.9663 - val_loss: 0.4098 - val_acc: 0.9053\n",
      "\n",
      "Epoch 00047: val_acc did not improve\n",
      "Epoch 48/1000\n",
      "156/156 [==============================] - 11s 70ms/step - loss: 0.1720 - acc: 0.9589 - val_loss: 0.4284 - val_acc: 0.9091\n",
      "\n",
      "Epoch 00048: val_acc did not improve\n",
      "Epoch 49/1000\n",
      "156/156 [==============================] - 11s 70ms/step - loss: 0.1465 - acc: 0.9647 - val_loss: 0.5705 - val_acc: 0.8939\n",
      "\n",
      "Epoch 00049: val_acc did not improve\n",
      "Epoch 50/1000\n",
      "156/156 [==============================] - 11s 69ms/step - loss: 0.2596 - acc: 0.9415 - val_loss: 0.4989 - val_acc: 0.8939\n",
      "\n",
      "Epoch 00050: val_acc did not improve\n",
      "Epoch 51/1000\n",
      "156/156 [==============================] - 11s 69ms/step - loss: 0.1266 - acc: 0.9712 - val_loss: 0.4859 - val_acc: 0.9091\n",
      "\n",
      "Epoch 00051: val_acc did not improve\n",
      "Epoch 52/1000\n",
      "156/156 [==============================] - 11s 70ms/step - loss: 0.0993 - acc: 0.9712 - val_loss: 0.5387 - val_acc: 0.8788\n",
      "\n",
      "Epoch 00052: val_acc did not improve\n",
      "Epoch 53/1000\n",
      "156/156 [==============================] - 11s 69ms/step - loss: 0.1458 - acc: 0.9607 - val_loss: 0.5397 - val_acc: 0.8826\n",
      "\n",
      "Epoch 00053: val_acc did not improve\n",
      "Epoch 54/1000\n",
      "156/156 [==============================] - 11s 69ms/step - loss: 0.1030 - acc: 0.9679 - val_loss: 0.3454 - val_acc: 0.9318\n",
      "\n",
      "Epoch 00054: val_acc did not improve\n",
      "Epoch 55/1000\n",
      "156/156 [==============================] - 11s 69ms/step - loss: 0.0905 - acc: 0.9704 - val_loss: 0.7569 - val_acc: 0.8826\n",
      "\n",
      "Epoch 00055: val_acc did not improve\n",
      "Epoch 00055: early stopping\n"
     ]
    },
    {
     "data": {
      "text/plain": [
       "<keras.callbacks.History at 0x26a78bb99e8>"
      ]
     },
     "execution_count": 13,
     "metadata": {},
     "output_type": "execute_result"
    }
   ],
   "source": [
    "model.fit_generator(\n",
    "        train_generator,\n",
    "        steps_per_epoch=steps_per_epoch,\n",
    "        epochs=epochs,\n",
    "        validation_data=val_generator,\n",
    "        validation_steps=validation_steps,\n",
    "        verbose=1, \n",
    "        callbacks=[check_point, \n",
    "                   early_stopping, \n",
    "                   tb_callback])"
   ]
  },
  {
   "cell_type": "code",
   "execution_count": 14,
   "metadata": {},
   "outputs": [
    {
     "name": "stdout",
     "output_type": "stream",
     "text": [
      "Точность на тестовых данных: 95.22%\n"
     ]
    }
   ],
   "source": [
    "model = keras.models.load_model(model_file_path)\n",
    "scores = model.evaluate_generator(test_generator, NeuClassificationSurfaceDefects.nb_test_samples // batch_size)\n",
    "acc = scores[1]*100\n",
    "print(\"Точность на тестовых данных: %.2f%%\" % (acc))\n"
   ]
  },
  {
   "cell_type": "code",
   "execution_count": 15,
   "metadata": {},
   "outputs": [],
   "source": [
    "with open(os.path.join(model_dir, 'README.md'), \"w\") as fh:\n",
    "    print(\"Accuracy:  %.2f%%\\n\" % (acc), file=fh)\n",
    "    model.summary(print_fn=lambda x: fh.write(x + '\\n'))"
   ]
  },
  {
   "cell_type": "code",
   "execution_count": 16,
   "metadata": {},
   "outputs": [],
   "source": [
    "with open('README.md', 'a') as fh:\n",
    "    print('| %s | %.2f%% | [models/%s/%s.model](https://github.com/Alkapov/Steel-Surface-NN/tree/master/models/%s/) |\\n' % (network_name, acc,  network_name, network_name, network_name), file=fh)"
   ]
  },
  {
   "cell_type": "code",
   "execution_count": null,
   "metadata": {},
   "outputs": [],
   "source": []
  }
 ],
 "metadata": {
  "kernelspec": {
   "display_name": "Python 3",
   "language": "python",
   "name": "python3"
  },
  "language_info": {
   "codemirror_mode": {
    "name": "ipython",
    "version": 3
   },
   "file_extension": ".py",
   "mimetype": "text/x-python",
   "name": "python",
   "nbconvert_exporter": "python",
   "pygments_lexer": "ipython3",
   "version": "3.5.5"
  }
 },
 "nbformat": 4,
 "nbformat_minor": 2
}
