{
 "cells": [
  {
   "cell_type": "code",
   "execution_count": 1,
   "metadata": {},
   "outputs": [
    {
     "name": "stderr",
     "output_type": "stream",
     "text": [
      "C:\\Programs\\Anaconda3\\envs\\ai\\lib\\site-packages\\h5py\\__init__.py:36: FutureWarning: Conversion of the second argument of issubdtype from `float` to `np.floating` is deprecated. In future, it will be treated as `np.float64 == np.dtype(float).type`.\n",
      "  from ._conv import register_converters as _register_converters\n",
      "Using TensorFlow backend.\n"
     ]
    }
   ],
   "source": [
    "%matplotlib inline\n",
    "import matplotlib.pyplot as plt\n",
    "import pandas, sys, cv2, os\n",
    "import numpy as np\n",
    "from keras.preprocessing.image import ImageDataGenerator\n",
    "from keras.models import Sequential\n",
    "from keras.layers import Conv2D, MaxPooling2D\n",
    "from keras.layers import Activation, Dropout, Flatten, Dense\n",
    "from keras.optimizers import SGD\n",
    "from keras.utils import plot_model\n",
    "import keras, h5py\n",
    "from Helpers.SteelDataGenerator import SteelDataGenerator as sd_gen\n",
    "from keras.callbacks import TensorBoard"
   ]
  },
  {
   "cell_type": "code",
   "execution_count": 2,
   "metadata": {},
   "outputs": [
    {
     "name": "stdout",
     "output_type": "stream",
     "text": [
      "Found 1254 images belonging to 6 classes.\n",
      "Found 270 images belonging to 6 classes.\n",
      "Found 276 images belonging to 6 classes.\n"
     ]
    }
   ],
   "source": [
    "neu_data_dir = 'neu-data'\n",
    "train_dir = os.path.join(neu_data_dir, 'train')\n",
    "val_dir = os.path.join(neu_data_dir, 'val')\n",
    "test_dir = os.path.join(neu_data_dir, 'test')\n",
    "img_width, img_height = 200, 200\n",
    "input_shape = (img_width, img_height, 3)\n",
    "epochs = 1000\n",
    "batch_size = 8\n",
    "nb_train_samples = 1254\n",
    "nb_validation_samples = 270    \n",
    "nb_test_samples = 276\n",
    "classes = 6\n",
    "train_generator, val_generator, test_generator = sd_gen.get_data_generators(train_dir, val_dir, test_dir, img_width, img_height, batch_size)"
   ]
  },
  {
   "cell_type": "code",
   "execution_count": 3,
   "metadata": {},
   "outputs": [],
   "source": [
    "check_point = keras.callbacks.ModelCheckpoint('LeNet5', monitor='val_acc', verbose=1, save_best_only=True, save_weights_only=False, mode='auto', period=1)\n",
    "early_stopping = keras.callbacks.EarlyStopping(monitor='val_acc', min_delta=0, patience=10, verbose=1, mode='auto')\n",
    "tb_callback = TensorBoard(log_dir='Graph',\n",
    "                         histogram_freq=0,\n",
    "                         write_graph=True,\n",
    "                         write_images=True)"
   ]
  },
  {
   "cell_type": "code",
   "execution_count": 4,
   "metadata": {
    "scrolled": true
   },
   "outputs": [],
   "source": [
    "# btch = train_generator.next()[0][0]\n",
    "# plt.imshow(btch)\n",
    "# plt.show()"
   ]
  },
  {
   "cell_type": "code",
   "execution_count": null,
   "metadata": {},
   "outputs": [],
   "source": []
  },
  {
   "cell_type": "code",
   "execution_count": 5,
   "metadata": {},
   "outputs": [],
   "source": [
    "\n",
    "model = Sequential()\n",
    "model.add(Conv2D(32, (3, 3), input_shape=input_shape))\n",
    "model.add(Activation('relu'))\n",
    "model.add(MaxPooling2D(pool_size=(2, 2)))\n",
    "\n",
    "model.add(Conv2D(32, (3, 3)))\n",
    "model.add(Activation('relu'))\n",
    "model.add(MaxPooling2D(pool_size=(2, 2)))\n",
    "\n",
    "model.add(Conv2D(64, (3, 3)))\n",
    "model.add(Activation('relu'))\n",
    "model.add(MaxPooling2D(pool_size=(2, 2)))\n",
    "\n",
    "model.add(Conv2D(64, (3, 3)))\n",
    "model.add(Activation('relu'))\n",
    "model.add(MaxPooling2D(pool_size=(2, 2)))\n",
    "\n",
    "model.add(Conv2D(128, (3, 3)))\n",
    "model.add(Activation('relu'))\n",
    "model.add(MaxPooling2D(pool_size=(2, 2)))\n",
    "\n",
    "model.add(Flatten())  # this converts our 3D feature maps to 1D feature vectors\n",
    "model.add(Dense(64))\n",
    "model.add(Activation('relu'))\n",
    "model.add(Dropout(0.5))\n",
    "model.add(Dense(6))\n",
    "model.add(Activation('softmax'))\n"
   ]
  },
  {
   "cell_type": "code",
   "execution_count": 6,
   "metadata": {},
   "outputs": [],
   "source": [
    "model.compile(loss='categorical_crossentropy',\n",
    "              optimizer='adam',\n",
    "              metrics=['accuracy'])"
   ]
  },
  {
   "cell_type": "code",
   "execution_count": 7,
   "metadata": {},
   "outputs": [
    {
     "name": "stdout",
     "output_type": "stream",
     "text": [
      "_________________________________________________________________\n",
      "Layer (type)                 Output Shape              Param #   \n",
      "=================================================================\n",
      "conv2d_1 (Conv2D)            (None, 198, 198, 32)      896       \n",
      "_________________________________________________________________\n",
      "activation_1 (Activation)    (None, 198, 198, 32)      0         \n",
      "_________________________________________________________________\n",
      "max_pooling2d_1 (MaxPooling2 (None, 99, 99, 32)        0         \n",
      "_________________________________________________________________\n",
      "conv2d_2 (Conv2D)            (None, 97, 97, 32)        9248      \n",
      "_________________________________________________________________\n",
      "activation_2 (Activation)    (None, 97, 97, 32)        0         \n",
      "_________________________________________________________________\n",
      "max_pooling2d_2 (MaxPooling2 (None, 48, 48, 32)        0         \n",
      "_________________________________________________________________\n",
      "conv2d_3 (Conv2D)            (None, 46, 46, 64)        18496     \n",
      "_________________________________________________________________\n",
      "activation_3 (Activation)    (None, 46, 46, 64)        0         \n",
      "_________________________________________________________________\n",
      "max_pooling2d_3 (MaxPooling2 (None, 23, 23, 64)        0         \n",
      "_________________________________________________________________\n",
      "conv2d_4 (Conv2D)            (None, 21, 21, 64)        36928     \n",
      "_________________________________________________________________\n",
      "activation_4 (Activation)    (None, 21, 21, 64)        0         \n",
      "_________________________________________________________________\n",
      "max_pooling2d_4 (MaxPooling2 (None, 10, 10, 64)        0         \n",
      "_________________________________________________________________\n",
      "conv2d_5 (Conv2D)            (None, 8, 8, 128)         73856     \n",
      "_________________________________________________________________\n",
      "activation_5 (Activation)    (None, 8, 8, 128)         0         \n",
      "_________________________________________________________________\n",
      "max_pooling2d_5 (MaxPooling2 (None, 4, 4, 128)         0         \n",
      "_________________________________________________________________\n",
      "flatten_1 (Flatten)          (None, 2048)              0         \n",
      "_________________________________________________________________\n",
      "dense_1 (Dense)              (None, 64)                131136    \n",
      "_________________________________________________________________\n",
      "activation_6 (Activation)    (None, 64)                0         \n",
      "_________________________________________________________________\n",
      "dropout_1 (Dropout)          (None, 64)                0         \n",
      "_________________________________________________________________\n",
      "dense_2 (Dense)              (None, 6)                 390       \n",
      "_________________________________________________________________\n",
      "activation_7 (Activation)    (None, 6)                 0         \n",
      "=================================================================\n",
      "Total params: 270,950\n",
      "Trainable params: 270,950\n",
      "Non-trainable params: 0\n",
      "_________________________________________________________________\n"
     ]
    }
   ],
   "source": [
    "model.summary()"
   ]
  },
  {
   "cell_type": "code",
   "execution_count": null,
   "metadata": {},
   "outputs": [],
   "source": []
  },
  {
   "cell_type": "code",
   "execution_count": 8,
   "metadata": {
    "scrolled": false
   },
   "outputs": [
    {
     "name": "stdout",
     "output_type": "stream",
     "text": [
      "Epoch 1/1000\n",
      "156/156 [==============================] - 12s 74ms/step - loss: 1.6146 - acc: 0.3002 - val_loss: 1.1738 - val_acc: 0.5530\n",
      "\n",
      "Epoch 00001: val_acc improved from -inf to 0.55303, saving model to LeNet5\n",
      "Epoch 2/1000\n",
      "156/156 [==============================] - 11s 72ms/step - loss: 1.1835 - acc: 0.4936 - val_loss: 1.0081 - val_acc: 0.5379\n",
      "\n",
      "Epoch 00002: val_acc did not improve\n",
      "Epoch 3/1000\n",
      "156/156 [==============================] - 11s 72ms/step - loss: 1.0222 - acc: 0.5641 - val_loss: 0.7926 - val_acc: 0.6742\n",
      "\n",
      "Epoch 00003: val_acc improved from 0.55303 to 0.67424, saving model to LeNet5\n",
      "Epoch 4/1000\n",
      "156/156 [==============================] - 11s 73ms/step - loss: 0.9744 - acc: 0.6135 - val_loss: 0.6868 - val_acc: 0.7121\n",
      "\n",
      "Epoch 00004: val_acc improved from 0.67424 to 0.71212, saving model to LeNet5\n",
      "Epoch 5/1000\n",
      "156/156 [==============================] - 11s 72ms/step - loss: 0.8643 - acc: 0.6522 - val_loss: 0.6389 - val_acc: 0.7348\n",
      "\n",
      "Epoch 00005: val_acc improved from 0.71212 to 0.73485, saving model to LeNet5\n",
      "Epoch 6/1000\n",
      "156/156 [==============================] - 11s 72ms/step - loss: 0.8232 - acc: 0.6854 - val_loss: 0.8349 - val_acc: 0.7311\n",
      "\n",
      "Epoch 00006: val_acc did not improve\n",
      "Epoch 7/1000\n",
      "156/156 [==============================] - 11s 72ms/step - loss: 0.7098 - acc: 0.7297 - val_loss: 0.5571 - val_acc: 0.7727\n",
      "\n",
      "Epoch 00007: val_acc improved from 0.73485 to 0.77273, saving model to LeNet5\n",
      "Epoch 8/1000\n",
      "156/156 [==============================] - 11s 72ms/step - loss: 0.7447 - acc: 0.7206 - val_loss: 0.6728 - val_acc: 0.7727\n",
      "\n",
      "Epoch 00008: val_acc did not improve\n",
      "Epoch 9/1000\n",
      "156/156 [==============================] - 11s 71ms/step - loss: 0.6161 - acc: 0.7711 - val_loss: 0.5833 - val_acc: 0.7765\n",
      "\n",
      "Epoch 00009: val_acc improved from 0.77273 to 0.77652, saving model to LeNet5\n",
      "Epoch 10/1000\n",
      "156/156 [==============================] - 11s 71ms/step - loss: 0.5475 - acc: 0.8090 - val_loss: 0.7588 - val_acc: 0.6970 0s - loss: 0.5505 - a\n",
      "\n",
      "Epoch 00010: val_acc did not improve\n",
      "Epoch 11/1000\n",
      "156/156 [==============================] - 11s 71ms/step - loss: 0.4724 - acc: 0.8411 - val_loss: 0.6539 - val_acc: 0.8068\n",
      "\n",
      "Epoch 00011: val_acc improved from 0.77652 to 0.80682, saving model to LeNet5\n",
      "Epoch 12/1000\n",
      "156/156 [==============================] - 11s 71ms/step - loss: 0.5318 - acc: 0.8197 - val_loss: 0.4922 - val_acc: 0.7765\n",
      "\n",
      "Epoch 00012: val_acc did not improve\n",
      "Epoch 13/1000\n",
      "156/156 [==============================] - 11s 70ms/step - loss: 0.4371 - acc: 0.8675 - val_loss: 0.5650 - val_acc: 0.8144\n",
      "\n",
      "Epoch 00013: val_acc improved from 0.80682 to 0.81439, saving model to LeNet5\n",
      "Epoch 14/1000\n",
      "156/156 [==============================] - 11s 70ms/step - loss: 0.3768 - acc: 0.8814 - val_loss: 0.8531 - val_acc: 0.6970\n",
      "\n",
      "Epoch 00014: val_acc did not improve\n",
      "Epoch 15/1000\n",
      "156/156 [==============================] - 11s 70ms/step - loss: 0.3156 - acc: 0.8926 - val_loss: 0.6058 - val_acc: 0.8674\n",
      "\n",
      "Epoch 00015: val_acc improved from 0.81439 to 0.86742, saving model to LeNet5\n",
      "Epoch 16/1000\n",
      "156/156 [==============================] - 11s 70ms/step - loss: 0.4273 - acc: 0.8758 - val_loss: 0.3816 - val_acc: 0.8674\n",
      "\n",
      "Epoch 00016: val_acc did not improve\n",
      "Epoch 17/1000\n",
      "156/156 [==============================] - 11s 70ms/step - loss: 0.3126 - acc: 0.9014 - val_loss: 0.5164 - val_acc: 0.9053\n",
      "\n",
      "Epoch 00017: val_acc improved from 0.86742 to 0.90530, saving model to LeNet5\n",
      "Epoch 18/1000\n",
      "156/156 [==============================] - 11s 70ms/step - loss: 0.3377 - acc: 0.9052 - val_loss: 0.3037 - val_acc: 0.9091\n",
      "\n",
      "Epoch 00018: val_acc improved from 0.90530 to 0.90909, saving model to LeNet5\n",
      "Epoch 19/1000\n",
      "156/156 [==============================] - 11s 71ms/step - loss: 0.2179 - acc: 0.9351 - val_loss: 0.3016 - val_acc: 0.9091\n",
      "\n",
      "Epoch 00019: val_acc did not improve\n",
      "Epoch 20/1000\n",
      "156/156 [==============================] - 11s 69ms/step - loss: 0.2485 - acc: 0.9263 - val_loss: 0.7745 - val_acc: 0.8447\n",
      "\n",
      "Epoch 00020: val_acc did not improve\n",
      "Epoch 21/1000\n",
      "156/156 [==============================] - 11s 69ms/step - loss: 0.2630 - acc: 0.9241 - val_loss: 0.5058 - val_acc: 0.8295\n",
      "\n",
      "Epoch 00021: val_acc did not improve\n",
      "Epoch 22/1000\n",
      "156/156 [==============================] - 11s 69ms/step - loss: 0.2141 - acc: 0.9463 - val_loss: 0.3800 - val_acc: 0.8561\n",
      "\n",
      "Epoch 00022: val_acc did not improve\n",
      "Epoch 23/1000\n",
      "156/156 [==============================] - 11s 70ms/step - loss: 0.2052 - acc: 0.9434 - val_loss: 0.6831 - val_acc: 0.8333\n",
      "\n",
      "Epoch 00023: val_acc did not improve\n",
      "Epoch 24/1000\n",
      "156/156 [==============================] - 11s 70ms/step - loss: 0.1880 - acc: 0.9535 - val_loss: 0.3348 - val_acc: 0.9129\n",
      "\n",
      "Epoch 00024: val_acc improved from 0.90909 to 0.91288, saving model to LeNet5\n",
      "Epoch 25/1000\n",
      "156/156 [==============================] - 11s 71ms/step - loss: 0.1596 - acc: 0.9559 - val_loss: 0.8667 - val_acc: 0.8523\n",
      "\n",
      "Epoch 00025: val_acc did not improve\n",
      "Epoch 26/1000\n",
      "156/156 [==============================] - 11s 70ms/step - loss: 0.2084 - acc: 0.9367 - val_loss: 0.7849 - val_acc: 0.8977\n",
      "\n",
      "Epoch 00026: val_acc did not improve\n",
      "Epoch 27/1000\n",
      "156/156 [==============================] - 11s 72ms/step - loss: 0.2305 - acc: 0.9391 - val_loss: 0.7100 - val_acc: 0.8182\n",
      "\n",
      "Epoch 00027: val_acc did not improve\n",
      "Epoch 28/1000\n",
      "156/156 [==============================] - 12s 75ms/step - loss: 0.1716 - acc: 0.9485 - val_loss: 0.3766 - val_acc: 0.9091\n",
      "\n",
      "Epoch 00028: val_acc did not improve\n",
      "Epoch 29/1000\n",
      "156/156 [==============================] - 11s 72ms/step - loss: 0.1779 - acc: 0.9447 - val_loss: 1.0622 - val_acc: 0.7955\n",
      "\n",
      "Epoch 00029: val_acc did not improve\n",
      "Epoch 30/1000\n",
      "156/156 [==============================] - 11s 69ms/step - loss: 0.2551 - acc: 0.9343 - val_loss: 0.4646 - val_acc: 0.9053\n",
      "\n",
      "Epoch 00030: val_acc did not improve\n",
      "Epoch 31/1000\n",
      "156/156 [==============================] - 10s 67ms/step - loss: 0.1160 - acc: 0.9671 - val_loss: 0.4215 - val_acc: 0.8561\n",
      "\n",
      "Epoch 00031: val_acc did not improve\n",
      "Epoch 32/1000\n",
      "156/156 [==============================] - 11s 67ms/step - loss: 0.1394 - acc: 0.9623 - val_loss: 0.3815 - val_acc: 0.9053\n",
      "\n",
      "Epoch 00032: val_acc did not improve\n",
      "Epoch 33/1000\n",
      "156/156 [==============================] - 11s 70ms/step - loss: 0.1314 - acc: 0.9639 - val_loss: 0.1398 - val_acc: 0.9508\n",
      "\n",
      "Epoch 00033: val_acc improved from 0.91288 to 0.95076, saving model to LeNet5\n",
      "Epoch 34/1000\n",
      "156/156 [==============================] - 11s 70ms/step - loss: 0.1190 - acc: 0.9679 - val_loss: 0.2522 - val_acc: 0.9318\n",
      "\n",
      "Epoch 00034: val_acc did not improve\n",
      "Epoch 35/1000\n",
      "156/156 [==============================] - 11s 69ms/step - loss: 0.1146 - acc: 0.9728 - val_loss: 0.3007 - val_acc: 0.9280\n",
      "\n",
      "Epoch 00035: val_acc did not improve\n",
      "Epoch 36/1000\n",
      "156/156 [==============================] - 11s 70ms/step - loss: 0.0793 - acc: 0.9717 - val_loss: 0.8033 - val_acc: 0.8939\n",
      "\n",
      "Epoch 00036: val_acc did not improve\n",
      "Epoch 37/1000\n",
      "156/156 [==============================] - 11s 70ms/step - loss: 0.1310 - acc: 0.9559 - val_loss: 0.3444 - val_acc: 0.9129\n",
      "\n",
      "Epoch 00037: val_acc did not improve\n",
      "Epoch 38/1000\n",
      "156/156 [==============================] - 11s 70ms/step - loss: 0.0762 - acc: 0.9792 - val_loss: 0.5090 - val_acc: 0.8712\n",
      "\n",
      "Epoch 00038: val_acc did not improve\n",
      "Epoch 39/1000\n",
      "156/156 [==============================] - 11s 69ms/step - loss: 0.2692 - acc: 0.9319 - val_loss: 0.1881 - val_acc: 0.9394\n",
      "\n",
      "Epoch 00039: val_acc did not improve\n",
      "Epoch 40/1000\n",
      "156/156 [==============================] - 11s 69ms/step - loss: 0.1421 - acc: 0.9607 - val_loss: 0.2794 - val_acc: 0.9205\n",
      "\n",
      "Epoch 00040: val_acc did not improve\n",
      "Epoch 41/1000\n",
      "156/156 [==============================] - 11s 70ms/step - loss: 0.1855 - acc: 0.9583 - val_loss: 0.3660 - val_acc: 0.9091\n",
      "\n",
      "Epoch 00041: val_acc did not improve\n",
      "Epoch 42/1000\n",
      "156/156 [==============================] - 11s 69ms/step - loss: 0.0810 - acc: 0.9776 - val_loss: 0.4304 - val_acc: 0.8902\n",
      "\n",
      "Epoch 00042: val_acc did not improve\n",
      "Epoch 43/1000\n",
      "156/156 [==============================] - 11s 69ms/step - loss: 0.0711 - acc: 0.9824 - val_loss: 0.4744 - val_acc: 0.9205\n",
      "\n",
      "Epoch 00043: val_acc did not improve\n",
      "Epoch 00043: early stopping\n"
     ]
    },
    {
     "data": {
      "text/plain": [
       "<keras.callbacks.History at 0x1c784e68c18>"
      ]
     },
     "execution_count": 8,
     "metadata": {},
     "output_type": "execute_result"
    }
   ],
   "source": [
    "model.fit_generator(\n",
    "        train_generator,\n",
    "        steps_per_epoch=nb_train_samples // batch_size,\n",
    "        epochs=epochs,\n",
    "        validation_data=val_generator,\n",
    "        validation_steps=nb_validation_samples // batch_size,\n",
    "        verbose=1, \n",
    "        callbacks=[check_point, early_stopping, tb_callback])"
   ]
  },
  {
   "cell_type": "code",
   "execution_count": 67,
   "metadata": {},
   "outputs": [
    {
     "name": "stdout",
     "output_type": "stream",
     "text": [
      "Точность на тестовых данных: 15.81%\n"
     ]
    }
   ],
   "source": [
    "scores = model.evaluate_generator(test_generator, nb_test_samples // batch_size)\n",
    "print(\"Точность на тестовых данных: %.2f%%\" % (scores[1]*100))"
   ]
  },
  {
   "cell_type": "code",
   "execution_count": 19,
   "metadata": {},
   "outputs": [
    {
     "name": "stdout",
     "output_type": "stream",
     "text": [
      "_________________________________________________________________\n",
      "Layer (type)                 Output Shape              Param #   \n",
      "=================================================================\n",
      "conv2d_4 (Conv2D)            (None, 198, 198, 32)      896       \n",
      "_________________________________________________________________\n",
      "activation_6 (Activation)    (None, 198, 198, 32)      0         \n",
      "_________________________________________________________________\n",
      "max_pooling2d_4 (MaxPooling2 (None, 99, 99, 32)        0         \n",
      "_________________________________________________________________\n",
      "conv2d_5 (Conv2D)            (None, 97, 97, 32)        9248      \n",
      "_________________________________________________________________\n",
      "activation_7 (Activation)    (None, 97, 97, 32)        0         \n",
      "_________________________________________________________________\n",
      "max_pooling2d_5 (MaxPooling2 (None, 48, 48, 32)        0         \n",
      "_________________________________________________________________\n",
      "conv2d_6 (Conv2D)            (None, 46, 46, 64)        18496     \n",
      "_________________________________________________________________\n",
      "activation_8 (Activation)    (None, 46, 46, 64)        0         \n",
      "_________________________________________________________________\n",
      "max_pooling2d_6 (MaxPooling2 (None, 23, 23, 64)        0         \n",
      "_________________________________________________________________\n",
      "flatten_2 (Flatten)          (None, 33856)             0         \n",
      "_________________________________________________________________\n",
      "dense_3 (Dense)              (None, 64)                2166848   \n",
      "_________________________________________________________________\n",
      "activation_9 (Activation)    (None, 64)                0         \n",
      "_________________________________________________________________\n",
      "dropout_2 (Dropout)          (None, 64)                0         \n",
      "_________________________________________________________________\n",
      "dense_4 (Dense)              (None, 6)                 390       \n",
      "_________________________________________________________________\n",
      "activation_10 (Activation)   (None, 6)                 0         \n",
      "=================================================================\n",
      "Total params: 2,195,878\n",
      "Trainable params: 2,195,878\n",
      "Non-trainable params: 0\n",
      "_________________________________________________________________\n"
     ]
    }
   ],
   "source": [
    "\n"
   ]
  },
  {
   "cell_type": "code",
   "execution_count": null,
   "metadata": {},
   "outputs": [],
   "source": []
  }
 ],
 "metadata": {
  "kernelspec": {
   "display_name": "Python 3",
   "language": "python",
   "name": "python3"
  },
  "language_info": {
   "codemirror_mode": {
    "name": "ipython",
    "version": 3
   },
   "file_extension": ".py",
   "mimetype": "text/x-python",
   "name": "python",
   "nbconvert_exporter": "python",
   "pygments_lexer": "ipython3",
   "version": "3.5.5"
  }
 },
 "nbformat": 4,
 "nbformat_minor": 2
}
