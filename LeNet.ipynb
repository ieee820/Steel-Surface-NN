{
 "cells": [
  {
   "cell_type": "code",
   "execution_count": 1,
   "metadata": {},
   "outputs": [
    {
     "name": "stderr",
     "output_type": "stream",
     "text": [
      "Using TensorFlow backend.\n"
     ]
    }
   ],
   "source": [
    "import numpy, pandas, sys, cv2, os\n",
    "from keras.preprocessing.image import ImageDataGenerator\n",
    "from keras.models import Sequential\n",
    "from keras.layers import Conv2D, MaxPooling2D\n",
    "from keras.layers import Activation, Dropout, Flatten, Dense\n",
    "from keras.optimizers import SGD"
   ]
  },
  {
   "cell_type": "code",
   "execution_count": 43,
   "metadata": {},
   "outputs": [],
   "source": [
    "neu_data_dir = 'neu-data'\n",
    "train_dir = os.path.join(neu_data_dir, 'train')\n",
    "val_dir = os.path.join(neu_data_dir, 'val')\n",
    "test_dir = os.path.join(neu_data_dir, 'test')\n",
    "img_width, img_height = 200, 200\n",
    "# Размерность тензора на основе изображения для входных данных в нейронную сеть\n",
    "# backend Tensorflow, channels_last\n",
    "input_shape = (img_width, img_height, 3)\n",
    "# Количество эпох\n",
    "epochs = 100\n",
    "# Размер мини-выборки\n",
    "batch_size = 16\n",
    "# Количество изображений для обучения\n",
    "nb_train_samples = 1254\n",
    "# Количество изображений для проверки\n",
    "nb_validation_samples = 270\n",
    "# Количество изображений для тестирования\n",
    "nb_test_samples = 276\n",
    "classes = 6"
   ]
  },
  {
   "cell_type": "code",
   "execution_count": 45,
   "metadata": {},
   "outputs": [],
   "source": [
    "model = Sequential()\n",
    "model.add(Conv2D(20, (5, 5), padding=\"same\", input_shape=input_shape))\n",
    "model.add(Activation(\"relu\"))\n",
    "model.add(MaxPooling2D(pool_size=(2, 2), strides=(2, 2)))\n",
    "# second set of CONV => RELU => POOL layers\n",
    "model.add(Conv2D(50, (5, 5), padding=\"same\"))\n",
    "model.add(Activation(\"relu\"))\n",
    "model.add(MaxPooling2D(pool_size=(2, 2), strides=(2, 2)))\n",
    "\n",
    "# first (and only) set of FC => RELU layers\n",
    "model.add(Flatten())\n",
    "model.add(Dense(500))\n",
    "model.add(Activation(\"relu\"))\n",
    "\n",
    "# softmax classifier\n",
    "model.add(Dense(classes))\n",
    "model.add(Activation(\"softmax\"))"
   ]
  },
  {
   "cell_type": "code",
   "execution_count": 46,
   "metadata": {},
   "outputs": [],
   "source": [
    "sgd = SGD(lr=0.01, decay=1e-6, momentum=0.9, nesterov=True)\n",
    "model.compile(loss='categorical_crossentropy',\n",
    "              optimizer=sgd,\n",
    "              metrics=['accuracy'])"
   ]
  },
  {
   "cell_type": "code",
   "execution_count": 47,
   "metadata": {},
   "outputs": [],
   "source": [
    "datagen = ImageDataGenerator()"
   ]
  },
  {
   "cell_type": "code",
   "execution_count": 48,
   "metadata": {},
   "outputs": [
    {
     "name": "stdout",
     "output_type": "stream",
     "text": [
      "Found 1254 images belonging to 6 classes.\n"
     ]
    }
   ],
   "source": [
    "train_generator = datagen.flow_from_directory(\n",
    "    train_dir,\n",
    "    target_size=(img_width, img_height),\n",
    "    batch_size=batch_size,\n",
    "    class_mode='categorical')"
   ]
  },
  {
   "cell_type": "code",
   "execution_count": 49,
   "metadata": {},
   "outputs": [
    {
     "name": "stdout",
     "output_type": "stream",
     "text": [
      "Found 270 images belonging to 6 classes.\n"
     ]
    }
   ],
   "source": [
    "val_generator = datagen.flow_from_directory(\n",
    "    val_dir,\n",
    "    target_size=(img_width, img_height),\n",
    "    batch_size=batch_size,\n",
    "    class_mode='categorical')"
   ]
  },
  {
   "cell_type": "code",
   "execution_count": 50,
   "metadata": {},
   "outputs": [
    {
     "name": "stdout",
     "output_type": "stream",
     "text": [
      "Found 276 images belonging to 6 classes.\n"
     ]
    }
   ],
   "source": [
    "test_generator = datagen.flow_from_directory(\n",
    "    test_dir,\n",
    "    target_size=(img_width, img_height),\n",
    "    batch_size=batch_size,\n",
    "    class_mode='categorical')"
   ]
  },
  {
   "cell_type": "code",
   "execution_count": 51,
   "metadata": {
    "scrolled": false
   },
   "outputs": [
    {
     "name": "stdout",
     "output_type": "stream",
     "text": [
      "Epoch 1/100\n",
      "78/78 [==============================] - 4s 47ms/step - loss: 13.4019 - acc: 0.1685 - val_loss: 13.2974 - val_acc: 0.1750\n",
      "Epoch 2/100\n",
      "78/78 [==============================] - 3s 37ms/step - loss: 13.4490 - acc: 0.1656 - val_loss: 13.2974 - val_acc: 0.1750\n",
      "Epoch 3/100\n",
      "78/78 [==============================] - 3s 37ms/step - loss: 13.3806 - acc: 0.1698 - val_loss: 13.2974 - val_acc: 0.1750\n",
      "Epoch 4/100\n",
      "78/78 [==============================] - 3s 38ms/step - loss: 13.4065 - acc: 0.1682 - val_loss: 13.2974 - val_acc: 0.1750\n",
      "Epoch 5/100\n",
      "78/78 [==============================] - 3s 38ms/step - loss: 13.3456 - acc: 0.1720 - val_loss: 13.2974 - val_acc: 0.1750\n",
      "Epoch 6/100\n",
      "78/78 [==============================] - 3s 38ms/step - loss: 13.4581 - acc: 0.1650 - val_loss: 13.2974 - val_acc: 0.1750\n",
      "Epoch 7/100\n",
      "78/78 [==============================] - 3s 37ms/step - loss: 13.3844 - acc: 0.1696 - val_loss: 13.2974 - val_acc: 0.1750\n",
      "Epoch 8/100\n",
      "78/78 [==============================] - 3s 37ms/step - loss: 13.3890 - acc: 0.1693 - val_loss: 13.2974 - val_acc: 0.1750\n",
      "Epoch 9/100\n",
      "78/78 [==============================] - 3s 37ms/step - loss: 13.4277 - acc: 0.1669 - val_loss: 13.2974 - val_acc: 0.1750\n",
      "Epoch 10/100\n",
      "78/78 [==============================] - 3s 37ms/step - loss: 13.5910 - acc: 0.1568 - val_loss: 13.2974 - val_acc: 0.1750\n",
      "Epoch 11/100\n",
      "78/78 [==============================] - 3s 37ms/step - loss: 13.3026 - acc: 0.1747 - val_loss: 13.2974 - val_acc: 0.1750\n",
      "Epoch 12/100\n",
      "78/78 [==============================] - 3s 37ms/step - loss: 13.4708 - acc: 0.1642 - val_loss: 13.2974 - val_acc: 0.1750\n",
      "Epoch 13/100\n",
      "78/78 [==============================] - 3s 37ms/step - loss: 13.4056 - acc: 0.1683 - val_loss: 13.2974 - val_acc: 0.1750\n",
      "Epoch 14/100\n",
      "78/78 [==============================] - 3s 37ms/step - loss: 13.3930 - acc: 0.1691 - val_loss: 13.2974 - val_acc: 0.1750\n",
      "Epoch 15/100\n",
      "78/78 [==============================] - 3s 37ms/step - loss: 13.4487 - acc: 0.1656 - val_loss: 13.2974 - val_acc: 0.1750\n",
      "Epoch 16/100\n",
      "78/78 [==============================] - 3s 37ms/step - loss: 13.4665 - acc: 0.1645 - val_loss: 13.2974 - val_acc: 0.1750\n",
      "Epoch 17/100\n",
      "78/78 [==============================] - 3s 37ms/step - loss: 13.4406 - acc: 0.1661 - val_loss: 13.2974 - val_acc: 0.1750\n",
      "Epoch 18/100\n",
      "78/78 [==============================] - 3s 37ms/step - loss: 13.3844 - acc: 0.1696 - val_loss: 13.2974 - val_acc: 0.1750\n",
      "Epoch 19/100\n",
      "78/78 [==============================] - 3s 37ms/step - loss: 13.3844 - acc: 0.1696 - val_loss: 13.2974 - val_acc: 0.1750\n",
      "Epoch 20/100\n",
      "78/78 [==============================] - 3s 37ms/step - loss: 13.5994 - acc: 0.1563 - val_loss: 13.2974 - val_acc: 0.1750\n",
      "Epoch 21/100\n",
      "78/78 [==============================] - 3s 37ms/step - loss: 13.1777 - acc: 0.1824 - val_loss: 13.2974 - val_acc: 0.1750\n",
      "Epoch 22/100\n",
      "78/78 [==============================] - 3s 37ms/step - loss: 13.5738 - acc: 0.1579 - val_loss: 13.2974 - val_acc: 0.1750\n",
      "Epoch 23/100\n",
      "78/78 [==============================] - 3s 37ms/step - loss: 13.3195 - acc: 0.1736 - val_loss: 13.2974 - val_acc: 0.1750\n",
      "Epoch 24/100\n",
      "78/78 [==============================] - 3s 37ms/step - loss: 13.6040 - acc: 0.1560 - val_loss: 13.2974 - val_acc: 0.1750\n",
      "Epoch 25/100\n",
      "78/78 [==============================] - 3s 37ms/step - loss: 13.6255 - acc: 0.1546 - val_loss: 13.2974 - val_acc: 0.1750\n",
      "Epoch 26/100\n",
      "78/78 [==============================] - 3s 37ms/step - loss: 13.2937 - acc: 0.1752 - val_loss: 13.2974 - val_acc: 0.1750\n",
      "Epoch 27/100\n",
      "78/78 [==============================] - 3s 37ms/step - loss: 13.3586 - acc: 0.1712 - val_loss: 13.2974 - val_acc: 0.1750\n",
      "Epoch 28/100\n",
      "78/78 [==============================] - 3s 37ms/step - loss: 13.5781 - acc: 0.1576 - val_loss: 13.2974 - val_acc: 0.1750\n",
      "Epoch 29/100\n",
      "78/78 [==============================] - 3s 37ms/step - loss: 13.2940 - acc: 0.1752 - val_loss: 13.2974 - val_acc: 0.1750\n",
      "Epoch 30/100\n",
      "78/78 [==============================] - 3s 37ms/step - loss: 13.3672 - acc: 0.1707 - val_loss: 13.2974 - val_acc: 0.1750\n",
      "Epoch 31/100\n",
      "78/78 [==============================] - 3s 37ms/step - loss: 13.5052 - acc: 0.1621 - val_loss: 13.2974 - val_acc: 0.1750\n",
      "Epoch 32/100\n",
      "78/78 [==============================] - 3s 37ms/step - loss: 13.4662 - acc: 0.1645 - val_loss: 13.2974 - val_acc: 0.1750\n",
      "Epoch 33/100\n",
      "78/78 [==============================] - 3s 37ms/step - loss: 13.3715 - acc: 0.1704 - val_loss: 13.2974 - val_acc: 0.1750\n",
      "Epoch 34/100\n",
      "78/78 [==============================] - 3s 37ms/step - loss: 13.4963 - acc: 0.1627 - val_loss: 13.2974 - val_acc: 0.1750\n",
      "Epoch 35/100\n",
      "78/78 [==============================] - 3s 37ms/step - loss: 13.3758 - acc: 0.1701 - val_loss: 13.2974 - val_acc: 0.1750\n",
      "Epoch 36/100\n",
      "78/78 [==============================] - 3s 37ms/step - loss: 13.2380 - acc: 0.1787 - val_loss: 13.2974 - val_acc: 0.1750\n",
      "Epoch 37/100\n",
      "78/78 [==============================] - 3s 38ms/step - loss: 13.5265 - acc: 0.1608 - val_loss: 13.2974 - val_acc: 0.1750\n",
      "Epoch 38/100\n",
      "78/78 [==============================] - 3s 37ms/step - loss: 13.5219 - acc: 0.1611 - val_loss: 13.2974 - val_acc: 0.1750\n",
      "Epoch 39/100\n",
      "78/78 [==============================] - 3s 37ms/step - loss: 13.5910 - acc: 0.1568 - val_loss: 13.2974 - val_acc: 0.1750\n",
      "Epoch 40/100\n",
      "78/78 [==============================] - 3s 37ms/step - loss: 13.2598 - acc: 0.1773 - val_loss: 13.2974 - val_acc: 0.1750\n",
      "Epoch 41/100\n",
      "78/78 [==============================] - 3s 37ms/step - loss: 13.5262 - acc: 0.1608 - val_loss: 13.2974 - val_acc: 0.1750\n",
      "Epoch 42/100\n",
      "78/78 [==============================] - 3s 37ms/step - loss: 13.4834 - acc: 0.1635 - val_loss: 13.2974 - val_acc: 0.1750\n",
      "Epoch 43/100\n",
      "78/78 [==============================] - 3s 37ms/step - loss: 13.2466 - acc: 0.1782 - val_loss: 13.2974 - val_acc: 0.1750\n",
      "Epoch 44/100\n",
      "78/78 [==============================] - 3s 37ms/step - loss: 13.4019 - acc: 0.1685 - val_loss: 13.2974 - val_acc: 0.1750\n",
      "Epoch 45/100\n",
      "78/78 [==============================] - 3s 37ms/step - loss: 13.4877 - acc: 0.1632 - val_loss: 13.2974 - val_acc: 0.1750\n",
      "Epoch 46/100\n",
      "78/78 [==============================] - 3s 37ms/step - loss: 13.4576 - acc: 0.1651 - val_loss: 13.2974 - val_acc: 0.1750\n",
      "Epoch 47/100\n",
      "78/78 [==============================] - 3s 37ms/step - loss: 13.3586 - acc: 0.1712 - val_loss: 13.2974 - val_acc: 0.1750\n",
      "Epoch 48/100\n",
      "78/78 [==============================] - 3s 37ms/step - loss: 13.5862 - acc: 0.1571 - val_loss: 13.2974 - val_acc: 0.1750\n",
      "Epoch 49/100\n",
      "78/78 [==============================] - 3s 37ms/step - loss: 13.3155 - acc: 0.1739 - val_loss: 13.2974 - val_acc: 0.1750\n",
      "Epoch 50/100\n",
      "78/78 [==============================] - 3s 37ms/step - loss: 13.5650 - acc: 0.1584 - val_loss: 13.2974 - val_acc: 0.1750\n",
      "Epoch 51/100\n",
      "78/78 [==============================] - 3s 37ms/step - loss: 13.3801 - acc: 0.1699 - val_loss: 13.2974 - val_acc: 0.1750\n",
      "Epoch 52/100\n",
      "78/78 [==============================] - 3s 37ms/step - loss: 13.5437 - acc: 0.1597 - val_loss: 13.2974 - val_acc: 0.1750\n",
      "Epoch 53/100\n",
      "78/78 [==============================] - 3s 37ms/step - loss: 13.2768 - acc: 0.1763 - val_loss: 13.2974 - val_acc: 0.1750\n",
      "Epoch 54/100\n",
      "78/78 [==============================] - 3s 37ms/step - loss: 13.5095 - acc: 0.1618 - val_loss: 13.2974 - val_acc: 0.1750\n",
      "Epoch 55/100\n",
      "78/78 [==============================] - 3s 37ms/step - loss: 13.3672 - acc: 0.1707 - val_loss: 13.2974 - val_acc: 0.1750\n",
      "Epoch 56/100\n",
      "78/78 [==============================] - 3s 37ms/step - loss: 13.3373 - acc: 0.1725 - val_loss: 13.2974 - val_acc: 0.1750\n",
      "Epoch 57/100\n",
      "78/78 [==============================] - 3s 37ms/step - loss: 13.5652 - acc: 0.1584 - val_loss: 13.2974 - val_acc: 0.1750\n",
      "Epoch 58/100\n",
      "78/78 [==============================] - 3s 37ms/step - loss: 13.2512 - acc: 0.1779 - val_loss: 13.2974 - val_acc: 0.1750\n",
      "Epoch 59/100\n",
      "78/78 [==============================] - 3s 37ms/step - loss: 13.6255 - acc: 0.1546 - val_loss: 13.2974 - val_acc: 0.1750\n",
      "Epoch 60/100\n",
      "78/78 [==============================] - 3s 37ms/step - loss: 13.3241 - acc: 0.1733 - val_loss: 13.2974 - val_acc: 0.1750\n",
      "Epoch 61/100\n",
      "78/78 [==============================] - 3s 37ms/step - loss: 13.3115 - acc: 0.1741 - val_loss: 13.2974 - val_acc: 0.1750\n"
     ]
    },
    {
     "name": "stdout",
     "output_type": "stream",
     "text": [
      "Epoch 62/100\n",
      "78/78 [==============================] - 3s 37ms/step - loss: 13.6769 - acc: 0.1515 - val_loss: 13.2974 - val_acc: 0.1750\n",
      "Epoch 63/100\n",
      "78/78 [==============================] - 3s 37ms/step - loss: 13.3026 - acc: 0.1747 - val_loss: 13.2974 - val_acc: 0.1750\n",
      "Epoch 64/100\n",
      "78/78 [==============================] - 3s 38ms/step - loss: 13.4535 - acc: 0.1653 - val_loss: 13.2974 - val_acc: 0.1750\n",
      "Epoch 65/100\n",
      "78/78 [==============================] - 3s 37ms/step - loss: 13.3935 - acc: 0.1690 - val_loss: 13.2974 - val_acc: 0.1750\n",
      "Epoch 66/100\n",
      "78/78 [==============================] - 3s 37ms/step - loss: 13.4829 - acc: 0.1635 - val_loss: 13.2974 - val_acc: 0.1750\n",
      "Epoch 67/100\n",
      "78/78 [==============================] - 3s 37ms/step - loss: 13.4963 - acc: 0.1627 - val_loss: 13.2974 - val_acc: 0.1750\n",
      "Epoch 68/100\n",
      "78/78 [==============================] - 3s 37ms/step - loss: 13.3456 - acc: 0.1720 - val_loss: 13.2974 - val_acc: 0.1750\n",
      "Epoch 69/100\n",
      "78/78 [==============================] - 3s 37ms/step - loss: 13.4490 - acc: 0.1656 - val_loss: 13.2974 - val_acc: 0.1750\n",
      "Epoch 70/100\n",
      "78/78 [==============================] - 3s 37ms/step - loss: 13.3798 - acc: 0.1699 - val_loss: 13.2974 - val_acc: 0.1750\n",
      "Epoch 71/100\n",
      "78/78 [==============================] - 3s 37ms/step - loss: 13.5348 - acc: 0.1603 - val_loss: 13.2974 - val_acc: 0.1750\n",
      "Epoch 72/100\n",
      "78/78 [==============================] - 3s 37ms/step - loss: 13.3720 - acc: 0.1704 - val_loss: 13.2974 - val_acc: 0.1750\n",
      "Epoch 73/100\n",
      "78/78 [==============================] - 3s 37ms/step - loss: 13.4576 - acc: 0.1651 - val_loss: 13.2974 - val_acc: 0.1750\n",
      "Epoch 74/100\n",
      "78/78 [==============================] - 3s 37ms/step - loss: 13.4315 - acc: 0.1667 - val_loss: 13.2974 - val_acc: 0.1750\n",
      "Epoch 75/100\n",
      "78/78 [==============================] - 3s 37ms/step - loss: 13.4019 - acc: 0.1685 - val_loss: 13.2974 - val_acc: 0.1750\n",
      "Epoch 76/100\n",
      "78/78 [==============================] - 3s 38ms/step - loss: 13.3677 - acc: 0.1706 - val_loss: 13.2974 - val_acc: 0.1750\n",
      "Epoch 77/100\n",
      "78/78 [==============================] - 3s 38ms/step - loss: 13.4877 - acc: 0.1632 - val_loss: 13.2974 - val_acc: 0.1750\n",
      "Epoch 78/100\n",
      "78/78 [==============================] - 3s 38ms/step - loss: 13.4231 - acc: 0.1672 - val_loss: 13.2974 - val_acc: 0.1750\n",
      "Epoch 79/100\n",
      "78/78 [==============================] - 3s 36ms/step - loss: 13.4231 - acc: 0.1672 - val_loss: 13.2974 - val_acc: 0.1750\n",
      "Epoch 80/100\n",
      "78/78 [==============================] - 3s 36ms/step - loss: 13.4148 - acc: 0.1677 - val_loss: 13.2974 - val_acc: 0.1750\n",
      "Epoch 81/100\n",
      "78/78 [==============================] - 3s 37ms/step - loss: 13.4186 - acc: 0.1675 - val_loss: 13.2974 - val_acc: 0.1750\n",
      "Epoch 82/100\n",
      "78/78 [==============================] - 3s 38ms/step - loss: 13.5136 - acc: 0.1616 - val_loss: 13.2974 - val_acc: 0.1750\n",
      "Epoch 83/100\n",
      "78/78 [==============================] - 3s 38ms/step - loss: 13.4102 - acc: 0.1680 - val_loss: 13.2974 - val_acc: 0.1750\n",
      "Epoch 84/100\n",
      "78/78 [==============================] - 3s 37ms/step - loss: 13.4102 - acc: 0.1680 - val_loss: 13.2974 - val_acc: 0.1750\n",
      "Epoch 85/100\n",
      "78/78 [==============================] - 3s 38ms/step - loss: 13.4188 - acc: 0.1675 - val_loss: 13.2974 - val_acc: 0.1750\n",
      "Epoch 86/100\n",
      "78/78 [==============================] - 3s 36ms/step - loss: 13.4533 - acc: 0.1653 - val_loss: 13.2974 - val_acc: 0.1750\n",
      "Epoch 87/100\n",
      "78/78 [==============================] - 3s 37ms/step - loss: 13.4056 - acc: 0.1683 - val_loss: 13.2974 - val_acc: 0.1750\n",
      "Epoch 88/100\n",
      "78/78 [==============================] - 3s 37ms/step - loss: 13.3844 - acc: 0.1696 - val_loss: 13.2974 - val_acc: 0.1750\n",
      "Epoch 89/100\n",
      "78/78 [==============================] - 3s 37ms/step - loss: 13.4877 - acc: 0.1632 - val_loss: 13.2974 - val_acc: 0.1750\n",
      "Epoch 90/100\n",
      "78/78 [==============================] - 3s 38ms/step - loss: 13.4231 - acc: 0.1672 - val_loss: 13.2974 - val_acc: 0.1750\n",
      "Epoch 91/100\n",
      "78/78 [==============================] - 3s 37ms/step - loss: 13.4406 - acc: 0.1661 - val_loss: 13.2974 - val_acc: 0.1750\n",
      "Epoch 92/100\n",
      "78/78 [==============================] - 3s 37ms/step - loss: 13.4490 - acc: 0.1656 - val_loss: 13.2974 - val_acc: 0.1750\n",
      "Epoch 93/100\n",
      "78/78 [==============================] - 3s 37ms/step - loss: 13.3973 - acc: 0.1688 - val_loss: 13.2974 - val_acc: 0.1750\n",
      "Epoch 94/100\n",
      "78/78 [==============================] - 3s 37ms/step - loss: 13.3844 - acc: 0.1696 - val_loss: 13.2974 - val_acc: 0.1750\n",
      "Epoch 95/100\n",
      "78/78 [==============================] - 3s 37ms/step - loss: 13.4705 - acc: 0.1643 - val_loss: 13.2974 - val_acc: 0.1750\n",
      "Epoch 96/100\n",
      "78/78 [==============================] - 3s 37ms/step - loss: 13.3674 - acc: 0.1707 - val_loss: 13.2974 - val_acc: 0.1750\n",
      "Epoch 97/100\n",
      "78/78 [==============================] - 3s 37ms/step - loss: 13.4961 - acc: 0.1627 - val_loss: 13.2974 - val_acc: 0.1750\n",
      "Epoch 98/100\n",
      "78/78 [==============================] - 3s 37ms/step - loss: 13.4019 - acc: 0.1685 - val_loss: 13.2974 - val_acc: 0.1750\n",
      "Epoch 99/100\n",
      "78/78 [==============================] - 3s 37ms/step - loss: 13.5910 - acc: 0.1568 - val_loss: 13.2974 - val_acc: 0.1750\n",
      "Epoch 100/100\n",
      "78/78 [==============================] - 3s 37ms/step - loss: 13.3155 - acc: 0.1739 - val_loss: 13.2974 - val_acc: 0.1750\n"
     ]
    },
    {
     "data": {
      "text/plain": [
       "<keras.callbacks.History at 0x1a15f861f60>"
      ]
     },
     "execution_count": 51,
     "metadata": {},
     "output_type": "execute_result"
    }
   ],
   "source": [
    "model.fit_generator(\n",
    "    train_generator,\n",
    "    steps_per_epoch=nb_train_samples // batch_size,\n",
    "    epochs=epochs,\n",
    "    validation_data=val_generator,\n",
    "    validation_steps=15)\n"
   ]
  },
  {
   "cell_type": "code",
   "execution_count": null,
   "metadata": {},
   "outputs": [],
   "source": []
  }
 ],
 "metadata": {
  "kernelspec": {
   "display_name": "Python 3",
   "language": "python",
   "name": "python3"
  },
  "language_info": {
   "codemirror_mode": {
    "name": "ipython",
    "version": 3
   },
   "file_extension": ".py",
   "mimetype": "text/x-python",
   "name": "python",
   "nbconvert_exporter": "python",
   "pygments_lexer": "ipython3",
   "version": "3.5.5"
  }
 },
 "nbformat": 4,
 "nbformat_minor": 2
}
