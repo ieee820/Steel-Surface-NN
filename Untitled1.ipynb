{
 "cells": [
  {
   "cell_type": "code",
   "execution_count": 1,
   "metadata": {},
   "outputs": [
    {
     "name": "stderr",
     "output_type": "stream",
     "text": [
      "Using TensorFlow backend.\n"
     ]
    }
   ],
   "source": [
    "import numpy, pandas, sys, cv2, os\n",
    "from keras.preprocessing.image import ImageDataGenerator\n",
    "from keras.models import Sequential\n",
    "from keras.layers import Conv2D, MaxPooling2D\n",
    "from keras.layers import Activation, Dropout, Flatten, Dense\n",
    "from keras.optimizers import SGD"
   ]
  },
  {
   "cell_type": "code",
   "execution_count": 2,
   "metadata": {},
   "outputs": [],
   "source": [
    "neu_data_dir = 'neu-data'\n",
    "train_dir = os.path.join(neu_data_dir, 'train')\n",
    "val_dir = os.path.join(neu_data_dir, 'val')\n",
    "test_dir = os.path.join(neu_data_dir, 'test')\n",
    "img_width, img_height = 200, 200\n",
    "# Размерность тензора на основе изображения для входных данных в нейронную сеть\n",
    "# backend Tensorflow, channels_last\n",
    "input_shape = (img_width, img_height, 3)\n",
    "# Количество эпох\n",
    "epochs = 100\n",
    "# Размер мини-выборки\n",
    "batch_size = 16\n",
    "# Количество изображений для обучения\n",
    "nb_train_samples = 1254\n",
    "# Количество изображений для проверки\n",
    "nb_validation_samples = 270\n",
    "# Количество изображений для тестирования\n",
    "nb_test_samples = 276\n",
    "classes = 6"
   ]
  },
  {
   "cell_type": "code",
   "execution_count": 3,
   "metadata": {},
   "outputs": [],
   "source": [
    "datagen = ImageDataGenerator(\n",
    "        rotation_range=40,\n",
    "        width_shift_range=0.2,\n",
    "        height_shift_range=0.2,\n",
    "        rescale=1./255,\n",
    "        shear_range=0.2,\n",
    "        zoom_range=0.2,\n",
    "        horizontal_flip=True,\n",
    "        fill_mode='nearest')"
   ]
  },
  {
   "cell_type": "code",
   "execution_count": 4,
   "metadata": {
    "scrolled": false
   },
   "outputs": [],
   "source": [
    "model = Sequential()\n",
    "model.add(Conv2D(32, (3, 3), input_shape=input_shape))\n",
    "model.add(Activation('relu'))\n",
    "model.add(MaxPooling2D(pool_size=(2, 2)))\n",
    "\n",
    "model.add(Conv2D(32, (3, 3)))\n",
    "model.add(Activation('relu'))\n",
    "model.add(MaxPooling2D(pool_size=(2, 2)))\n",
    "\n",
    "model.add(Conv2D(64, (3, 3)))\n",
    "model.add(Activation('relu'))\n",
    "model.add(MaxPooling2D(pool_size=(2, 2)))\n",
    "\n",
    "model.add(Flatten())  # this converts our 3D feature maps to 1D feature vectors\n",
    "model.add(Dense(64))\n",
    "model.add(Activation('relu'))\n",
    "model.add(Dropout(0.5))\n",
    "model.add(Dense(6))\n",
    "model.add(Activation('sigmoid'))\n",
    "\n",
    "model.compile(loss='binary_crossentropy',\n",
    "              optimizer='rmsprop',\n",
    "              metrics=['accuracy'])"
   ]
  },
  {
   "cell_type": "code",
   "execution_count": 5,
   "metadata": {},
   "outputs": [
    {
     "name": "stdout",
     "output_type": "stream",
     "text": [
      "Found 1254 images belonging to 6 classes.\n"
     ]
    }
   ],
   "source": [
    "train_generator = datagen.flow_from_directory(\n",
    "    train_dir,\n",
    "    target_size=(img_width, img_height),\n",
    "    batch_size=batch_size,\n",
    "    class_mode='categorical')"
   ]
  },
  {
   "cell_type": "code",
   "execution_count": 6,
   "metadata": {},
   "outputs": [
    {
     "name": "stdout",
     "output_type": "stream",
     "text": [
      "Found 270 images belonging to 6 classes.\n"
     ]
    }
   ],
   "source": [
    "val_generator = datagen.flow_from_directory(\n",
    "    val_dir,\n",
    "    target_size=(img_width, img_height),\n",
    "    batch_size=batch_size,\n",
    "    class_mode='categorical')"
   ]
  },
  {
   "cell_type": "code",
   "execution_count": 7,
   "metadata": {},
   "outputs": [
    {
     "name": "stdout",
     "output_type": "stream",
     "text": [
      "Found 276 images belonging to 6 classes.\n"
     ]
    }
   ],
   "source": [
    "test_generator = datagen.flow_from_directory(\n",
    "    test_dir,\n",
    "    target_size=(img_width, img_height),\n",
    "    batch_size=batch_size,\n",
    "    class_mode='categorical')"
   ]
  },
  {
   "cell_type": "code",
   "execution_count": 8,
   "metadata": {
    "scrolled": false
   },
   "outputs": [
    {
     "name": "stdout",
     "output_type": "stream",
     "text": [
      "Epoch 1/50\n",
      "78/78 [==============================] - 25s 315ms/step - loss: 0.5288 - acc: 0.8087 - val_loss: 0.5442 - val_acc: 0.8073\n",
      "Epoch 2/50\n",
      "78/78 [==============================] - 10s 124ms/step - loss: 0.4605 - acc: 0.8283 - val_loss: 0.4338 - val_acc: 0.8372\n",
      "Epoch 3/50\n",
      "78/78 [==============================] - 10s 124ms/step - loss: 0.4159 - acc: 0.8332 - val_loss: 0.4209 - val_acc: 0.8353\n",
      "Epoch 4/50\n",
      "78/78 [==============================] - 10s 123ms/step - loss: 0.3764 - acc: 0.8384 - val_loss: 0.4086 - val_acc: 0.8594\n",
      "Epoch 5/50\n",
      "78/78 [==============================] - 9s 121ms/step - loss: 0.3465 - acc: 0.8516 - val_loss: 0.5586 - val_acc: 0.7852\n",
      "Epoch 6/50\n",
      "78/78 [==============================] - 9s 120ms/step - loss: 0.3428 - acc: 0.8562 - val_loss: 0.4572 - val_acc: 0.8424\n",
      "Epoch 7/50\n",
      "78/78 [==============================] - 9s 119ms/step - loss: 0.3072 - acc: 0.8676 - val_loss: 0.6385 - val_acc: 0.8145\n",
      "Epoch 8/50\n",
      "78/78 [==============================] - 9s 117ms/step - loss: 0.2976 - acc: 0.8725 - val_loss: 0.5016 - val_acc: 0.8496\n",
      "Epoch 9/50\n",
      "78/78 [==============================] - 9s 116ms/step - loss: 0.2753 - acc: 0.8919 - val_loss: 0.4450 - val_acc: 0.8932\n",
      "Epoch 10/50\n",
      "78/78 [==============================] - 9s 115ms/step - loss: 0.2628 - acc: 0.8939 - val_loss: 0.4477 - val_acc: 0.8555\n",
      "Epoch 11/50\n",
      "78/78 [==============================] - 9s 115ms/step - loss: 0.2596 - acc: 0.8971 - val_loss: 0.4287 - val_acc: 0.8939\n",
      "Epoch 12/50\n",
      "78/78 [==============================] - 9s 113ms/step - loss: 0.2361 - acc: 0.9058 - val_loss: 0.4003 - val_acc: 0.9043\n",
      "Epoch 13/50\n",
      "78/78 [==============================] - 9s 112ms/step - loss: 0.2243 - acc: 0.9087 - val_loss: 0.4003 - val_acc: 0.9062\n",
      "Epoch 14/50\n",
      "78/78 [==============================] - 9s 110ms/step - loss: 0.2179 - acc: 0.9114 - val_loss: 0.4637 - val_acc: 0.8932\n",
      "Epoch 15/50\n",
      "78/78 [==============================] - 9s 111ms/step - loss: 0.2071 - acc: 0.9231 - val_loss: 0.4501 - val_acc: 0.8939\n",
      "Epoch 16/50\n",
      "78/78 [==============================] - 9s 111ms/step - loss: 0.2109 - acc: 0.9227 - val_loss: 0.3661 - val_acc: 0.8900\n",
      "Epoch 17/50\n",
      "78/78 [==============================] - 9s 112ms/step - loss: 0.2083 - acc: 0.9264 - val_loss: 0.4674 - val_acc: 0.8743\n",
      "Epoch 18/50\n",
      "78/78 [==============================] - 9s 110ms/step - loss: 0.2253 - acc: 0.9266 - val_loss: 0.2301 - val_acc: 0.9173\n",
      "Epoch 19/50\n",
      "78/78 [==============================] - 9s 110ms/step - loss: 0.1637 - acc: 0.9368 - val_loss: 0.6143 - val_acc: 0.8327\n",
      "Epoch 20/50\n",
      "78/78 [==============================] - 9s 111ms/step - loss: 0.1768 - acc: 0.9395 - val_loss: 0.3169 - val_acc: 0.8984\n",
      "Epoch 21/50\n",
      "78/78 [==============================] - 9s 110ms/step - loss: 0.1710 - acc: 0.9412 - val_loss: 0.5277 - val_acc: 0.8568\n",
      "Epoch 22/50\n",
      "78/78 [==============================] - 9s 111ms/step - loss: 0.1430 - acc: 0.9497 - val_loss: 0.3938 - val_acc: 0.9010\n",
      "Epoch 23/50\n",
      "78/78 [==============================] - 9s 109ms/step - loss: 0.1455 - acc: 0.9483 - val_loss: 0.3172 - val_acc: 0.9134\n",
      "Epoch 24/50\n",
      "78/78 [==============================] - 9s 111ms/step - loss: 0.1596 - acc: 0.9433 - val_loss: 0.5565 - val_acc: 0.8874\n",
      "Epoch 25/50\n",
      "78/78 [==============================] - 9s 110ms/step - loss: 0.1595 - acc: 0.9419 - val_loss: 0.4511 - val_acc: 0.8854\n",
      "Epoch 26/50\n",
      "78/78 [==============================] - 9s 113ms/step - loss: 0.1282 - acc: 0.9546 - val_loss: 0.3455 - val_acc: 0.9245\n",
      "Epoch 27/50\n",
      "78/78 [==============================] - 9s 112ms/step - loss: 0.1401 - acc: 0.9506 - val_loss: 0.3989 - val_acc: 0.9049\n",
      "Epoch 28/50\n",
      "78/78 [==============================] - 9s 112ms/step - loss: 0.1352 - acc: 0.9566 - val_loss: 0.3499 - val_acc: 0.9141\n",
      "Epoch 29/50\n",
      "78/78 [==============================] - 9s 113ms/step - loss: 0.1281 - acc: 0.9545 - val_loss: 0.3510 - val_acc: 0.9023\n",
      "Epoch 30/50\n",
      "78/78 [==============================] - 9s 113ms/step - loss: 0.1245 - acc: 0.9617 - val_loss: 0.2747 - val_acc: 0.9297\n",
      "Epoch 31/50\n",
      "78/78 [==============================] - 9s 112ms/step - loss: 0.1389 - acc: 0.9550 - val_loss: 0.4055 - val_acc: 0.9056\n",
      "Epoch 32/50\n",
      "78/78 [==============================] - 9s 112ms/step - loss: 0.1253 - acc: 0.9619 - val_loss: 0.4126 - val_acc: 0.9062\n",
      "Epoch 33/50\n",
      "78/78 [==============================] - 9s 112ms/step - loss: 0.1240 - acc: 0.9590 - val_loss: 0.3045 - val_acc: 0.9303\n",
      "Epoch 34/50\n",
      "78/78 [==============================] - 9s 111ms/step - loss: 0.1148 - acc: 0.9610 - val_loss: 0.3868 - val_acc: 0.9082\n",
      "Epoch 35/50\n",
      "78/78 [==============================] - 9s 112ms/step - loss: 0.1197 - acc: 0.9595 - val_loss: 0.4004 - val_acc: 0.9238\n",
      "Epoch 36/50\n",
      "78/78 [==============================] - 9s 112ms/step - loss: 0.1093 - acc: 0.9637 - val_loss: 0.3582 - val_acc: 0.9251\n",
      "Epoch 37/50\n",
      "78/78 [==============================] - 9s 112ms/step - loss: 0.1165 - acc: 0.9614 - val_loss: 0.5129 - val_acc: 0.8854\n",
      "Epoch 38/50\n",
      "78/78 [==============================] - 9s 113ms/step - loss: 0.1051 - acc: 0.9639 - val_loss: 0.6543 - val_acc: 0.8600\n",
      "Epoch 39/50\n",
      "78/78 [==============================] - 10s 124ms/step - loss: 0.1158 - acc: 0.9649 - val_loss: 0.4017 - val_acc: 0.9186\n",
      "Epoch 40/50\n",
      "78/78 [==============================] - 10s 125ms/step - loss: 0.1222 - acc: 0.9621 - val_loss: 0.4288 - val_acc: 0.9154\n",
      "Epoch 41/50\n",
      "78/78 [==============================] - 10s 129ms/step - loss: 0.0898 - acc: 0.9690 - val_loss: 0.4428 - val_acc: 0.8978\n",
      "Epoch 42/50\n",
      "78/78 [==============================] - 10s 132ms/step - loss: 0.1430 - acc: 0.9590 - val_loss: 0.2523 - val_acc: 0.8984\n",
      "Epoch 43/50\n",
      "78/78 [==============================] - 10s 130ms/step - loss: 0.0898 - acc: 0.9716 - val_loss: 0.3950 - val_acc: 0.9128\n",
      "Epoch 44/50\n",
      "78/78 [==============================] - 9s 120ms/step - loss: 0.0935 - acc: 0.9713 - val_loss: 0.3952 - val_acc: 0.9238\n",
      "Epoch 45/50\n",
      "78/78 [==============================] - 9s 113ms/step - loss: 0.1050 - acc: 0.9654 - val_loss: 0.3097 - val_acc: 0.8958\n",
      "Epoch 46/50\n",
      "78/78 [==============================] - 9s 114ms/step - loss: 0.0838 - acc: 0.9706 - val_loss: 0.3953 - val_acc: 0.9154\n",
      "Epoch 47/50\n",
      "78/78 [==============================] - 9s 112ms/step - loss: 0.1023 - acc: 0.9685 - val_loss: 0.5625 - val_acc: 0.9238\n",
      "Epoch 48/50\n",
      "78/78 [==============================] - 9s 117ms/step - loss: 0.0947 - acc: 0.9721 - val_loss: 0.3514 - val_acc: 0.9180\n",
      "Epoch 49/50\n",
      "78/78 [==============================] - 9s 113ms/step - loss: 0.1210 - acc: 0.9625 - val_loss: 0.3723 - val_acc: 0.9232\n",
      "Epoch 50/50\n",
      "78/78 [==============================] - 9s 112ms/step - loss: 0.0983 - acc: 0.9695 - val_loss: 0.6066 - val_acc: 0.8971\n"
     ]
    },
    {
     "data": {
      "text/plain": [
       "<keras.callbacks.History at 0x1e836bb57f0>"
      ]
     },
     "execution_count": 8,
     "metadata": {},
     "output_type": "execute_result"
    }
   ],
   "source": [
    "model.fit_generator(\n",
    "        train_generator,\n",
    "        steps_per_epoch=nb_train_samples // batch_size,\n",
    "        epochs=50,\n",
    "        validation_data=val_generator,\n",
    "        validation_steps=nb_validation_samples // batch_size)"
   ]
  },
  {
   "cell_type": "code",
   "execution_count": null,
   "metadata": {},
   "outputs": [],
   "source": []
  }
 ],
 "metadata": {
  "kernelspec": {
   "display_name": "Python 3",
   "language": "python",
   "name": "python3"
  },
  "language_info": {
   "codemirror_mode": {
    "name": "ipython",
    "version": 3
   },
   "file_extension": ".py",
   "mimetype": "text/x-python",
   "name": "python",
   "nbconvert_exporter": "python",
   "pygments_lexer": "ipython3",
   "version": "3.5.5"
  }
 },
 "nbformat": 4,
 "nbformat_minor": 2
}
